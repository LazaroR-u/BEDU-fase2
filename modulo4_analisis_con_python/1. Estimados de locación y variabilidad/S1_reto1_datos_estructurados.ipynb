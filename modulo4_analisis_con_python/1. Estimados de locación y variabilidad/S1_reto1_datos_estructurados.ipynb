{
  "nbformat": 4,
  "nbformat_minor": 0,
  "metadata": {
    "kernelspec": {
      "display_name": "Python (data_science)",
      "language": "python",
      "name": "data_science"
    },
    "language_info": {
      "codemirror_mode": {
        "name": "ipython",
        "version": 3
      },
      "file_extension": ".py",
      "mimetype": "text/x-python",
      "name": "python",
      "nbconvert_exporter": "python",
      "pygments_lexer": "ipython3",
      "version": "3.8.5"
    },
    "colab": {
      "name": "S1_reto1_datos_estructurados.ipynb",
      "provenance": [],
      "collapsed_sections": []
    }
  },
  "cells": [
    {
      "cell_type": "markdown",
      "metadata": {
        "id": "BLY7BOuGtKa-"
      },
      "source": [
        "**Lázaro R. Díaz Lievano**"
      ]
    },
    {
      "cell_type": "markdown",
      "metadata": {
        "id": "9Z6ZiWVAqmJV"
      },
      "source": [
        "## Reto 1: Datos estructurados\n",
        "\n",
        "### 1. Objetivos:\n",
        "    - Aprender a diferenciar los diferentes tipos de datos estructurados que existen.\n",
        " \n",
        "---\n",
        "    \n",
        "### 2. Desarrollo:"
      ]
    },
    {
      "cell_type": "code",
      "metadata": {
        "id": "uVfHktKVqmJY"
      },
      "source": [
        "import pandas as pd"
      ],
      "execution_count": null,
      "outputs": []
    },
    {
      "cell_type": "markdown",
      "metadata": {
        "id": "I_oPBs_5qmJZ"
      },
      "source": [
        "### a) Identificando datos estructurados\n",
        "\n",
        "A continuación verás varias muestras de datos y sus descripciones. Asígnales una de las categorías de datos estructurados que acabas de aprender. Después, comparte tus hipótesis con la experta y con tus compañeros.\n",
        "\n",
        "Es muy importante saber identificar tipos de datos estructurados, porque las técnicas y estrategias que aprenderás durante este módulo suelen estar dirigidas hacia un tipo de dato específico. La elección de las mejores herramientas viene después de entender a qué tipo de dato nos estamos enfrentando."
      ]
    },
    {
      "cell_type": "markdown",
      "metadata": {
        "id": "rP7jiFuuqmJa"
      },
      "source": [
        "#### - Muestra 1: Extraída de un conjunto de datos que contiene edades de personas"
      ]
    },
    {
      "cell_type": "code",
      "metadata": {
        "id": "GMD4CiYfqmJb"
      },
      "source": [
        "edades = pd.Series([23, 34, 4, 45, 52, 59, 23, 48, 50, 49, 3, 4, 6, 8, 79, 6, 40, 17, 34, 4, 67, 97, 87, 65, 24, 4, 46])"
      ],
      "execution_count": null,
      "outputs": []
    },
    {
      "cell_type": "markdown",
      "metadata": {
        "id": "tv3LiFnYqmJc"
      },
      "source": [
        "¿Qué tipo de dato estructurado tenemos en la serie `edades`?\n",
        "\n",
        " **numericos discretos**"
      ]
    },
    {
      "cell_type": "markdown",
      "metadata": {
        "id": "4coxwzyiqmJd"
      },
      "source": [
        "#### - Muestra 2: Extraída de un conjunto de datos que contiene evaluaciones de restaurantes hechas por usuarios de una app"
      ]
    },
    {
      "cell_type": "code",
      "metadata": {
        "id": "98Rjm3I8qmJd"
      },
      "source": [
        "evaluaciones = pd.Series([1, 4, 2, 2, 3, 5, 4, 4, 4, 5, 1, 2, 2, 3, 5, 2, 4, 3, 3, 1, 5, 5, 2, 4, 3, 3, 4, 4, 5, 1, 2])"
      ],
      "execution_count": null,
      "outputs": []
    },
    {
      "cell_type": "markdown",
      "metadata": {
        "id": "crwxTnP9qmJe"
      },
      "source": [
        "¿Qué tipo de dato estructurado tenemos en la serie `evaluaciones`? \n",
        "\n",
        "**categorico ordinales**"
      ]
    },
    {
      "cell_type": "markdown",
      "metadata": {
        "id": "1jujerDiqmJe"
      },
      "source": [
        "#### - Muestra 3: Extraída de un conjunto de datos que contiene códigos de respuesta HTTP obtenidos al realizar llamadas constantes a una API"
      ]
    },
    {
      "cell_type": "code",
      "metadata": {
        "id": "SIuEnM92qmJf"
      },
      "source": [
        "codigos = pd.Series([400, 400, 200, 200, 201, 200, 201, 400, 201, 404, 400, 200, 200, 201, 200, 201, 201, 500, 400, 200])"
      ],
      "execution_count": null,
      "outputs": []
    },
    {
      "cell_type": "markdown",
      "metadata": {
        "id": "t2Oq2EYsqmJf"
      },
      "source": [
        "¿Qué tipo de dato estructurado tenemos en la serie `codigos`? \n",
        "\n",
        "**categorico ordinal**"
      ]
    },
    {
      "cell_type": "markdown",
      "metadata": {
        "id": "RRaESJwOqmJf"
      },
      "source": [
        "#### - Muestra 4: Extraída de un conjunto de datos que contiene mediciones precisas de temperaturas ambientales hechas durante un verano de la CDMX"
      ]
    },
    {
      "cell_type": "code",
      "metadata": {
        "id": "IxpCpwxWqmJg"
      },
      "source": [
        "temperaturas = pd.Series([22.45, 21.34, 20.23, 20.34, 25.54, 24.34, 18.23, 19.35, 18.24, 25.5, 24.33, 20.19, 21.45, 22.45])"
      ],
      "execution_count": null,
      "outputs": []
    },
    {
      "cell_type": "markdown",
      "metadata": {
        "id": "9NX90S0YqmJg"
      },
      "source": [
        "¿Qué tipo de dato estructurado tenemos en la serie `temperaturas`? \n",
        "\n",
        "**numericos continuos**"
      ]
    },
    {
      "cell_type": "markdown",
      "metadata": {
        "id": "TSD1-YYxqmJg"
      },
      "source": [
        "#### - Muestra 5: Extraída de un conjunto de datos que contiene resultados de una encuesta cuyas únicas posibles respuestas eran \"sí\" y \"no\""
      ]
    },
    {
      "cell_type": "code",
      "metadata": {
        "id": "3DMN9e7TqmJg"
      },
      "source": [
        "encuesta = pd.Series([0, 0, 1, 1, 1, 0, 1, 0, 0, 0, 1, 1, 1, 0, 0, 0, 1, 0, 1, 1, 1, 1, 0, 0, 0, 1, 0, 1, 0, 1, 0, 0])"
      ],
      "execution_count": null,
      "outputs": []
    },
    {
      "cell_type": "markdown",
      "metadata": {
        "id": "XM2zNPPpqmJh"
      },
      "source": [
        "¿Qué tipo de dato estructurado tenemos en la serie `encuesta`?\n",
        " \n",
        "**categorico binario** "
      ]
    },
    {
      "cell_type": "code",
      "metadata": {
        "id": "NUnJ0ZnEs0rS"
      },
      "source": [
        ""
      ],
      "execution_count": null,
      "outputs": []
    }
  ]
}