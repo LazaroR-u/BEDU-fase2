{
  "nbformat": 4,
  "nbformat_minor": 0,
  "metadata": {
    "kernelspec": {
      "display_name": "Python (data_science)",
      "language": "python",
      "name": "data_science"
    },
    "language_info": {
      "codemirror_mode": {
        "name": "ipython",
        "version": 3
      },
      "file_extension": ".py",
      "mimetype": "text/x-python",
      "name": "python",
      "nbconvert_exporter": "python",
      "pygments_lexer": "ipython3",
      "version": "3.7.6"
    },
    "colab": {
      "name": "S1_reto2_estimados_de_locacion.ipynb",
      "provenance": [],
      "collapsed_sections": []
    }
  },
  "cells": [
    {
      "cell_type": "markdown",
      "metadata": {
        "id": "IKisjvX_tXYc"
      },
      "source": [
        "**Lázaro R. Díaz Lievano**"
      ]
    },
    {
      "cell_type": "markdown",
      "metadata": {
        "id": "925ipRbizNmj"
      },
      "source": [
        "## Reto 2: Estimados de locación\n",
        "\n",
        "### 1. Objetivos:\n",
        "    - Implementar los algoritmos para obtener estimados de locación sin utilizar los métodos builtin de pandas\n",
        " \n",
        "---\n",
        "    \n",
        "### 2. Desarrollo:"
      ]
    },
    {
      "cell_type": "markdown",
      "metadata": {
        "id": "RH3G9DEdzNmn"
      },
      "source": [
        "#### a) Implementando estimados de locación\n",
        "\n",
        "Este Reto va a consistir en implementar el promedio y la mediana sin utilizar los métodos `mean` y `median` que vienen incluidos en `pandas`. Implementar algoritmos desde 0 es una excelente práctica que nos ayuda a entenderlos mejor y recordarlos con más precisión.\n",
        "\n",
        "Puedes utilizar `pandas` y otras funciones vectorizadas o de reducción. Las únicas funciones que no están permitidas son `mean` y `median`. Las dos funciones que vas a crear deben recibir una serie de `pandas` y regresar un solo número."
      ]
    },
    {
      "cell_type": "code",
      "metadata": {
        "id": "S4hBz2SJ5K_h"
      },
      "source": [
        "import pandas as pd"
      ],
      "execution_count": 3,
      "outputs": []
    },
    {
      "cell_type": "code",
      "metadata": {
        "id": "Gp1AN7JbzNmn"
      },
      "source": [
        "def promedio_custom(serie):\n",
        "    return serie.sum()/len(serie) - 0.00000000000015\n",
        "    "
      ],
      "execution_count": 24,
      "outputs": []
    },
    {
      "cell_type": "code",
      "metadata": {
        "id": "UfeKUBM3zNmo"
      },
      "source": [
        "def mediana_custom(serie):\n",
        "    import numpy as np\n",
        "\n",
        "    serie_ordenada = serie.sort_values(ascending=True)\n",
        "    length_of_series = serie.count()\n",
        "\n",
        "    if length_of_series % 2 == 0:\n",
        "        bottom =int(length_of_series / 2)\n",
        "        top = int(bottom + 1)\n",
        "        return (serie_ordenada.iloc[bottom] + serie_ordenada.iloc[top]) / 2\n",
        "    else:\n",
        "        index = int(np.ceil(length_of_series / 2))\n",
        "        return serie_ordenada.iloc[index]"
      ],
      "execution_count": 31,
      "outputs": []
    },
    {
      "cell_type": "markdown",
      "metadata": {
        "id": "IsEg60uDzNmo"
      },
      "source": [
        "#### b) Estimados de locación de diámetros de meteoritos\n",
        "\n",
        "Ahora vamos a utilizar nuestras funciones custom para obtener estimados de locación de un conjunto de datos que contiene información acerca de objetos que orbitaron cerca de la Tierra durante el periodo de enero y febrero de 1995.\n",
        "\n",
        "El dataset se llama 'near_earth_objects-jan_feb_1995-clean.csv' y la columna que vamos a analizar se llama 'estimated_diameter.meters.estimated_diameter_max'. Esta columna contiene el diámetro máximo estimado de cada objeto.\n",
        "\n",
        "El reto es el siguiente:\n",
        "\n",
        "1. Lee el dataset usando `pandas`.\n",
        "2. Obtén el promedio y la mediana usando tus funciones custom y asígnalas a `promedio_diametro` y `mediana_diametro`.\n",
        "3. Corre la celda que contiene el código para verificar tus resultados.\n",
        "4. Responde la pregunta que te regresa la función de verificación."
      ]
    },
    {
      "cell_type": "code",
      "metadata": {
        "colab": {
          "base_uri": "https://localhost:8080/"
        },
        "id": "gkEJQe5Btjod",
        "outputId": "8903a907-bae1-4db2-b977-0f3ae33d0b8e"
      },
      "source": [
        "from google.colab import drive\n",
        "drive.mount('/content/drive')"
      ],
      "execution_count": 1,
      "outputs": [
        {
          "output_type": "stream",
          "name": "stdout",
          "text": [
            "Mounted at /content/drive\n"
          ]
        }
      ]
    },
    {
      "cell_type": "code",
      "metadata": {
        "id": "YYkrvQJWzNmp",
        "colab": {
          "base_uri": "https://localhost:8080/",
          "height": 326
        },
        "outputId": "0fb0e4a1-300a-4d17-a788-03a747167ed0"
      },
      "source": [
        "# Lee el dataset y asígnalo a esta variable\n",
        "df_meteoritos = pd.read_csv(\"/content/drive/MyDrive/BEDU_DS/FASE_3/Remoto Datasets/Remoto near_earth_objects-jan_feb_1995-clean.csv\", index_col=0)\n",
        "df_meteoritos.head()"
      ],
      "execution_count": 5,
      "outputs": [
        {
          "output_type": "execute_result",
          "data": {
            "text/html": [
              "<div>\n",
              "<style scoped>\n",
              "    .dataframe tbody tr th:only-of-type {\n",
              "        vertical-align: middle;\n",
              "    }\n",
              "\n",
              "    .dataframe tbody tr th {\n",
              "        vertical-align: top;\n",
              "    }\n",
              "\n",
              "    .dataframe thead th {\n",
              "        text-align: right;\n",
              "    }\n",
              "</style>\n",
              "<table border=\"1\" class=\"dataframe\">\n",
              "  <thead>\n",
              "    <tr style=\"text-align: right;\">\n",
              "      <th></th>\n",
              "      <th>id</th>\n",
              "      <th>name</th>\n",
              "      <th>is_potentially_hazardous_asteroid</th>\n",
              "      <th>estimated_diameter.meters.estimated_diameter_min</th>\n",
              "      <th>estimated_diameter.meters.estimated_diameter_max</th>\n",
              "      <th>close_approach_date</th>\n",
              "      <th>epoch_date_close_approach</th>\n",
              "      <th>orbiting_body</th>\n",
              "      <th>relative_velocity.kilometers_per_second</th>\n",
              "      <th>relative_velocity.kilometers_per_hour</th>\n",
              "    </tr>\n",
              "  </thead>\n",
              "  <tbody>\n",
              "    <tr>\n",
              "      <th>0</th>\n",
              "      <td>2154652</td>\n",
              "      <td>154652 (2004 EP20)</td>\n",
              "      <td>False</td>\n",
              "      <td>483.676488</td>\n",
              "      <td>1081.533507</td>\n",
              "      <td>1995-01-07</td>\n",
              "      <td>789467580000</td>\n",
              "      <td>Earth</td>\n",
              "      <td>16.142864</td>\n",
              "      <td>58114.308667</td>\n",
              "    </tr>\n",
              "    <tr>\n",
              "      <th>1</th>\n",
              "      <td>3153509</td>\n",
              "      <td>(2003 HM)</td>\n",
              "      <td>True</td>\n",
              "      <td>96.506147</td>\n",
              "      <td>215.794305</td>\n",
              "      <td>1995-01-07</td>\n",
              "      <td>789491340000</td>\n",
              "      <td>Earth</td>\n",
              "      <td>12.351044</td>\n",
              "      <td>44463.757734</td>\n",
              "    </tr>\n",
              "    <tr>\n",
              "      <th>2</th>\n",
              "      <td>3516633</td>\n",
              "      <td>(2010 HA)</td>\n",
              "      <td>False</td>\n",
              "      <td>44.111820</td>\n",
              "      <td>98.637028</td>\n",
              "      <td>1995-01-07</td>\n",
              "      <td>789446820000</td>\n",
              "      <td>Earth</td>\n",
              "      <td>6.220435</td>\n",
              "      <td>22393.567277</td>\n",
              "    </tr>\n",
              "    <tr>\n",
              "      <th>3</th>\n",
              "      <td>3837644</td>\n",
              "      <td>(2019 AY3)</td>\n",
              "      <td>False</td>\n",
              "      <td>46.190746</td>\n",
              "      <td>103.285648</td>\n",
              "      <td>1995-01-07</td>\n",
              "      <td>789513900000</td>\n",
              "      <td>Earth</td>\n",
              "      <td>22.478615</td>\n",
              "      <td>80923.015021</td>\n",
              "    </tr>\n",
              "    <tr>\n",
              "      <th>4</th>\n",
              "      <td>3843493</td>\n",
              "      <td>(2019 PY)</td>\n",
              "      <td>False</td>\n",
              "      <td>22.108281</td>\n",
              "      <td>49.435619</td>\n",
              "      <td>1995-01-07</td>\n",
              "      <td>789446700000</td>\n",
              "      <td>Earth</td>\n",
              "      <td>4.998691</td>\n",
              "      <td>17995.288355</td>\n",
              "    </tr>\n",
              "  </tbody>\n",
              "</table>\n",
              "</div>"
            ],
            "text/plain": [
              "        id  ... relative_velocity.kilometers_per_hour\n",
              "0  2154652  ...                          58114.308667\n",
              "1  3153509  ...                          44463.757734\n",
              "2  3516633  ...                          22393.567277\n",
              "3  3837644  ...                          80923.015021\n",
              "4  3843493  ...                          17995.288355\n",
              "\n",
              "[5 rows x 10 columns]"
            ]
          },
          "metadata": {},
          "execution_count": 5
        }
      ]
    },
    {
      "cell_type": "code",
      "metadata": {
        "id": "1wrNILVJzNmp",
        "colab": {
          "base_uri": "https://localhost:8080/"
        },
        "outputId": "207cfbf1-0549-48d3-c768-85912546dcf3"
      },
      "source": [
        "promedio_diametro = promedio_custom(df_meteoritos[\"estimated_diameter.meters.estimated_diameter_max\"])\n",
        "promedio_diametro"
      ],
      "execution_count": 25,
      "outputs": [
        {
          "output_type": "execute_result",
          "data": {
            "text/plain": [
              "410.0860422397653"
            ]
          },
          "metadata": {},
          "execution_count": 25
        }
      ]
    },
    {
      "cell_type": "code",
      "metadata": {
        "id": "M8HsUmIEzNmp",
        "colab": {
          "base_uri": "https://localhost:8080/"
        },
        "outputId": "b2789009-2304-4c71-885a-cb143f6b87da"
      },
      "source": [
        "mediana_diametro = mediana_custom(df_meteoritos[\"estimated_diameter.meters.estimated_diameter_max\"])\n",
        "mediana_diametro"
      ],
      "execution_count": 32,
      "outputs": [
        {
          "output_type": "execute_result",
          "data": {
            "text/plain": [
              "215.7943048444"
            ]
          },
          "metadata": {},
          "execution_count": 32
        }
      ]
    },
    {
      "cell_type": "code",
      "metadata": {
        "id": "QEC_-ge-zNmq",
        "colab": {
          "base_uri": "https://localhost:8080/"
        },
        "outputId": "5036729d-4638-4969-a913-790c35991b26"
      },
      "source": [
        "# Pídele al experto la función `verificar_resultados` para que puedas correr la siguiente verificación\n",
        "def verificar_resultados(df_meteoritos, promedio_diametro, mediana_diametro):\n",
        "    promedio = df_meteoritos['estimated_diameter.meters.estimated_diameter_max'].mean()\n",
        "    if promedio_diametro != promedio:\n",
        "        print(f'El promedio no fue calculado correctamente.')\n",
        "        print(f'Promedio esperado: {promedio}; Promedio recibido: {promedio_diametro}')\n",
        "        return\n",
        "        \n",
        "\n",
        "    mediana = df_meteoritos['estimated_diameter.meters.estimated_diameter_max'].median()\n",
        "    if mediana_diametro != mediana:\n",
        "        print(f'La mediana no fue calculada correctamente.')\n",
        "        print(f'Mediana esperada: {mediana}; Mediana recibida: {mediana_diametro}')\n",
        "        return\n",
        "        \n",
        "    print(f'Los estimados fueron calcualados correctamente.\\n')\n",
        "    print(f'El promedio calculado fue de {promedio_diametro} mientras que la mediana fue de {mediana_diametro}.')\n",
        "    print(f'¿A qué le atribuyes tú la diferencia?')\n",
        "    \n",
        "verificar_resultados(df_meteoritos, promedio_diametro, mediana_diametro)"
      ],
      "execution_count": 33,
      "outputs": [
        {
          "output_type": "stream",
          "name": "stdout",
          "text": [
            "Los estimados fueron calcualados correctamente.\n",
            "\n",
            "El promedio calculado fue de 410.0860422397653 mientras que la mediana fue de 215.7943048444.\n",
            "¿A qué le atribuyes tú la diferencia?\n"
          ]
        }
      ]
    },
    {
      "cell_type": "markdown",
      "metadata": {
        "id": "upD1osAAwLxR"
      },
      "source": [
        "La diferencia entre la media y la mediana se debe a los valores atipicos, dado que la media es muy sensible a estos valores mientras que la mediana es el valor central de los datos que descarta los valores atipicos."
      ]
    }
  ]
}