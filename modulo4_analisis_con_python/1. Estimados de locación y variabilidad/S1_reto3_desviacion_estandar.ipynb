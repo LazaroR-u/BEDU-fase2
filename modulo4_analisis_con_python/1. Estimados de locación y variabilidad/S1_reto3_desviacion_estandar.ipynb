{
  "nbformat": 4,
  "nbformat_minor": 0,
  "metadata": {
    "kernelspec": {
      "display_name": "Python (data_science)",
      "language": "python",
      "name": "data_science"
    },
    "language_info": {
      "codemirror_mode": {
        "name": "ipython",
        "version": 3
      },
      "file_extension": ".py",
      "mimetype": "text/x-python",
      "name": "python",
      "nbconvert_exporter": "python",
      "pygments_lexer": "ipython3",
      "version": "3.8.5"
    },
    "colab": {
      "name": "S1_reto3_desviacion_estandar.ipynb",
      "provenance": [],
      "collapsed_sections": []
    }
  },
  "cells": [
    {
      "cell_type": "markdown",
      "metadata": {
        "id": "bA1GSF9HDye-"
      },
      "source": [
        "## Reto 3: Desviación estándar\n",
        "\n",
        "### 1. Objetivos:\n",
        "    - Utilizar la desviación estándar para realizar un análisis de dispersión de nuestros datos\n",
        " \n",
        "---\n",
        "    \n",
        "### 2. Desarrollo:"
      ]
    },
    {
      "cell_type": "markdown",
      "metadata": {
        "id": "oZV642hvDyfB"
      },
      "source": [
        "#### a) Desviación estándar y distribución de los datos\n",
        "\n",
        "Como ya vimos, la desviación estándar es la medida que nos da la \"desviación típica\" (o esperada) de nuestros datos a comparación del promedio. Eso quiere decir que normalmente vamos a esperar que una gran parte de nuestros datos se encuentren a 1 desviación estándar de distancia del promedio. Entre más nos alejamos, menos muestras deberíamos de encontrar.\n",
        "\n",
        "Vamos a comprobar esto usando nuestro dataset de meteoritos que orbitan cerca de la Tierra. Tu Reto consiste en los siguientes pasos:\n",
        "\n",
        "1. Crea un DataFrame con el dataset 'near_earth_objects-jan_feb_1995-clean.csv'.\n",
        "2. Obtén la cantidad total de muestras en tu DataFrame.\n",
        "3. Obtén la desviación estándar de la columna 'estimated_diameter.meters.estimated_diameter_max'. Los siguientes pasos realízalos todos utilizando esta columna.\n",
        "4. Obtén el porcentaje de muestras que están a una distancia de 1 desviación estándar del promedio.\n",
        "5. Obtén el porcentaje de muestras que están a una distancia de 2 desviaciones estándares del promedio.\n",
        "6. Obtén el porcentaje de muestras que están a una distancia de 3 desviaciones estándares del promedio.\n",
        "7. Compara los porcentajes obtenidos y comenta con tus compañeros y la experta tus hallazgos. ¿Qué significa esto? ¿La definición de desviación estándar tiene sentido? ¿Qué puedo inferir acerca de la dispersión de mis datos a partir de los valores obtenidos?\n",
        "\n",
        "> Nota: Para obtener los porcentajes de los subconjuntos primero necesitas filtrar el DataFrame original para que sólo permanezcan las muestras que cumplan con los requisitos.\n",
        "\n",
        "> Nota: Este Reto está diseñado para tener una dificultad media. No te frustres si al principio parece demasiado difícil. Comienza poco a poco, resolviendo el problema en pedazos pequeños, y si no tienes la menor idea de cómo proceder recuerda que la experta está ahí para ayudarte."
      ]
    },
    {
      "cell_type": "code",
      "metadata": {
        "id": "xbGjQL3EDyfD",
        "colab": {
          "base_uri": "https://localhost:8080/"
        },
        "outputId": "2c8c7288-4bde-49fe-936f-901f76972b54"
      },
      "source": [
        "import pandas as pd\n",
        "df=pd.read_csv(\"/content/drive/MyDrive/BEDU: DATA SCIENCE/FASE_3/Remoto Datasets/Remoto near_earth_objects-jan_feb_1995-clean.csv\")\n",
        "\n",
        "df.info()"
      ],
      "execution_count": null,
      "outputs": [
        {
          "output_type": "stream",
          "text": [
            "<class 'pandas.core.frame.DataFrame'>\n",
            "RangeIndex: 333 entries, 0 to 332\n",
            "Data columns (total 11 columns):\n",
            " #   Column                                            Non-Null Count  Dtype  \n",
            "---  ------                                            --------------  -----  \n",
            " 0   Unnamed: 0                                        333 non-null    int64  \n",
            " 1   id                                                333 non-null    int64  \n",
            " 2   name                                              333 non-null    object \n",
            " 3   is_potentially_hazardous_asteroid                 333 non-null    bool   \n",
            " 4   estimated_diameter.meters.estimated_diameter_min  333 non-null    float64\n",
            " 5   estimated_diameter.meters.estimated_diameter_max  333 non-null    float64\n",
            " 6   close_approach_date                               333 non-null    object \n",
            " 7   epoch_date_close_approach                         333 non-null    int64  \n",
            " 8   orbiting_body                                     333 non-null    object \n",
            " 9   relative_velocity.kilometers_per_second           333 non-null    float64\n",
            " 10  relative_velocity.kilometers_per_hour             333 non-null    float64\n",
            "dtypes: bool(1), float64(4), int64(3), object(3)\n",
            "memory usage: 26.5+ KB\n"
          ],
          "name": "stdout"
        }
      ]
    },
    {
      "cell_type": "code",
      "metadata": {
        "id": "mGC5azySERQf",
        "colab": {
          "base_uri": "https://localhost:8080/"
        },
        "outputId": "b4c9775e-410e-4b8a-a1e0-51cbc4a05a9d"
      },
      "source": [
        "from google.colab import drive\n",
        "drive.mount('/content/drive')"
      ],
      "execution_count": null,
      "outputs": [
        {
          "output_type": "stream",
          "text": [
            "Mounted at /content/drive\n"
          ],
          "name": "stdout"
        }
      ]
    },
    {
      "cell_type": "code",
      "metadata": {
        "id": "db4QLMlhE7VQ"
      },
      "source": [
        "diam_max=df[\"estimated_diameter.meters.estimated_diameter_max\"]"
      ],
      "execution_count": null,
      "outputs": []
    },
    {
      "cell_type": "code",
      "metadata": {
        "id": "bv6avD78GufN",
        "colab": {
          "base_uri": "https://localhost:8080/"
        },
        "outputId": "b34cb281-4eb1-4d99-b543-621e4c06bc7f"
      },
      "source": [
        "#media de los diametros de meteoritos\n",
        "mean_diam = diam_max.mean()\n",
        "#desviacion estandar de los diametros\n",
        "std_diam = diam_max.std()\n",
        "#rango de los valores para los diametros\n",
        "diam_max.min(), diam_max.max()"
      ],
      "execution_count": null,
      "outputs": [
        {
          "output_type": "execute_result",
          "data": {
            "text/plain": [
              "(2.978790628, 6516.883821679)"
            ]
          },
          "metadata": {},
          "execution_count": 26
        }
      ]
    },
    {
      "cell_type": "markdown",
      "metadata": {
        "id": "1i5pXn4kx1T3"
      },
      "source": [
        "Porcentaje de muestras que están a una distancia de 1, 2 o 3 desviaciones estándar del promedio."
      ]
    },
    {
      "cell_type": "code",
      "metadata": {
        "id": "Bl4MB4_UGuUk",
        "colab": {
          "base_uri": "https://localhost:8080/"
        },
        "outputId": "71ad3624-e6e0-4159-bbbe-a600cc691a62"
      },
      "source": [
        "c = 'estimated_diameter.meters.estimated_diameter_max'\n",
        "\n",
        "mean = df[c].mean()\n",
        "std = df[c].std()\n",
        "col= df[c]\n",
        "for i in range(1,4):\n",
        "    rango_bajo = df[c] >= mean - (std * i)\n",
        "    rango_alto = df[c] <= mean + (std * i)\n",
        "    en_rango = df[rango_bajo & rango_alto]\n",
        "    porcentaje = len(en_rango) * 100 / len(col)\n",
        "    print(f\"A {i} desviaciones: {porcentaje:.2f}%\")"
      ],
      "execution_count": null,
      "outputs": [
        {
          "output_type": "stream",
          "text": [
            "A 1 desviaciones: 90.39%\n",
            "A 2 desviaciones: 96.40%\n",
            "A 3 desviaciones: 97.90%\n"
          ],
          "name": "stdout"
        }
      ]
    },
    {
      "cell_type": "markdown",
      "metadata": {
        "id": "acupc1AbDyfD"
      },
      "source": [
        "<details><summary>Solución</summary>\n",
        "\n",
        "```python\n",
        "import pandas as pd\n",
        "\n",
        "df = pd.read_csv('../../Datasets/near_earth_objects-jan_feb_1995-clean.csv', index_col=0)\n",
        "diameter_column = 'estimated_diameter.meters.estimated_diameter_max'\n",
        "total_count = df.shape[0]\n",
        "mean = df[diameter_column].mean()\n",
        "std = df[diameter_column].std()\n",
        "\n",
        "within_one_std_filter_bottom = df[diameter_column] >= (mean - std)\n",
        "within_one_std_filter_top = df[diameter_column] <= (mean + std)\n",
        "within_one_std = df[within_one_std_filter_bottom & within_one_std_filter_top]\n",
        "percentage_of_data_within_one_std = within_one_std.shape[0] * 100 / total_count\n",
        "\n",
        "within_two_std_filter_bottom = df[diameter_column] >= (mean - 2 * std)\n",
        "within_two_std_filter_top = df[diameter_column] <= (mean + 2 * std)\n",
        "within_two_std = df[within_two_std_filter_bottom & within_two_std_filter_top]\n",
        "percentage_of_data_within_two_std = within_two_std.shape[0] * 100 / total_count\n",
        "\n",
        "within_three_std_filter_bottom = df[diameter_column] >= (mean - 3 * std)\n",
        "within_three_std_filter_top = df[diameter_column] <= (mean + 3 * std)\n",
        "within_three_std = df[within_three_std_filter_bottom & within_three_std_filter_top]\n",
        "percentage_of_data_within_three_std = within_three_std.shape[0] * 100 / total_count\n",
        "```\n",
        "    \n",
        "</details>"
      ]
    }
  ]
}