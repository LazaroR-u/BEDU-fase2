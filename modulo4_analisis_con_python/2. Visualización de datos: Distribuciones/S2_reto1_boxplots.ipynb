{
  "nbformat": 4,
  "nbformat_minor": 0,
  "metadata": {
    "kernelspec": {
      "display_name": "Python (data_science)",
      "language": "python",
      "name": "data_science"
    },
    "language_info": {
      "codemirror_mode": {
        "name": "ipython",
        "version": 3
      },
      "file_extension": ".py",
      "mimetype": "text/x-python",
      "name": "python",
      "nbconvert_exporter": "python",
      "pygments_lexer": "ipython3",
      "version": "3.8.5"
    },
    "colab": {
      "name": "S2_reto1_boxplots.ipynb",
      "provenance": [],
      "collapsed_sections": []
    }
  },
  "cells": [
    {
      "cell_type": "markdown",
      "metadata": {
        "id": "xOGicHtUHHLW"
      },
      "source": [
        "**Lázaro R. Díaz Lievano.**\n",
        "# Reto 1: Boxplots\n",
        "1. Objetivos:\n",
        "    - Aprender a graficar e interpretar boxplots utilizando Seaborn\n",
        "    - Aprender a lidiar con valores atípicos usando IQR-Score\n",
        " \n",
        "---\n",
        "    \n",
        "### 2. Desarrollo:"
      ]
    },
    {
      "cell_type": "markdown",
      "metadata": {
        "id": "BISzJBhjHHLY"
      },
      "source": [
        "#### a) Usando boxplots para analizar la distribución de nuestros datos\n",
        "\n",
        "Vamos a hacer algunas gráficas de boxplot y describirlas en equipo. Usa Seaborn para generar gráficas boxplot de los siguientes datasets y columnas:\n",
        "\n",
        "1. Dataset: 'near_earth_objects-jan_feb_1995-clean.csv'\n",
        "    - Columnas a graficar: 'estimated_diameter.meters.estimated_diameter_max' y 'relative_velocity.kilometers_per_second'\n",
        "2. Dataset: 'new_york_times_bestsellers-clean.json'\n",
        "    - Columnas a graficar: 'price.numberDouble'\n",
        "3. Dataset: 'melbourne_housing-clean.csv'\n",
        "    - Columnas a graficar: 'land_size'\n",
        "    \n",
        "> Para conocer más detalles acerca de estos datasets, ve a Datasets/Readme.md y visita los links de las fuentes de donde provienen. Es una gran idea hacer esto para que entiendas el contexto alrededor de los análisis que vamos a estar realizando.\n",
        "    \n",
        "Realiza estas 4 visualizaciones y comenta con la experta y tus compañeros qué conclusiones o hipótesis podemos hacer sobre nuestros datos. Para profundizar en el análisis puedes obtener también el rango, la mediana, el valor mínimo y máximo, el percentil 25 y el percentil 75. De esta manera tendrás valores concretos con los que realizar tu análisis."
      ]
    },
    {
      "cell_type": "code",
      "metadata": {
        "id": "grTGlFeXHHLZ"
      },
      "source": [
        "# Tu código va aquí\n",
        "import pandas as pd\n",
        "import matplotlib.pyplot as plt \n",
        "import seaborn as sns \n",
        "import json"
      ],
      "execution_count": 4,
      "outputs": []
    },
    {
      "cell_type": "markdown",
      "metadata": {
        "id": "nAIuPb8gP09y"
      },
      "source": [
        "##BOXPLOT PARA EL DATAFRAME DE LA NASA"
      ]
    },
    {
      "cell_type": "code",
      "metadata": {
        "id": "5C-3qZZ4PtGG",
        "colab": {
          "base_uri": "https://localhost:8080/",
          "height": 326
        },
        "outputId": "30d1cf88-8f76-4bb2-9301-31a5f5721c4b"
      },
      "source": [
        "df=pd.read_csv(\"/content/drive/MyDrive/BEDU_DS/FASE_3/Remoto Datasets/Remoto near_earth_objects-jan_feb_1995-clean.csv\", index_col=0 ) \n",
        "df.head()"
      ],
      "execution_count": 7,
      "outputs": [
        {
          "output_type": "execute_result",
          "data": {
            "text/html": [
              "<div>\n",
              "<style scoped>\n",
              "    .dataframe tbody tr th:only-of-type {\n",
              "        vertical-align: middle;\n",
              "    }\n",
              "\n",
              "    .dataframe tbody tr th {\n",
              "        vertical-align: top;\n",
              "    }\n",
              "\n",
              "    .dataframe thead th {\n",
              "        text-align: right;\n",
              "    }\n",
              "</style>\n",
              "<table border=\"1\" class=\"dataframe\">\n",
              "  <thead>\n",
              "    <tr style=\"text-align: right;\">\n",
              "      <th></th>\n",
              "      <th>id</th>\n",
              "      <th>name</th>\n",
              "      <th>is_potentially_hazardous_asteroid</th>\n",
              "      <th>estimated_diameter.meters.estimated_diameter_min</th>\n",
              "      <th>estimated_diameter.meters.estimated_diameter_max</th>\n",
              "      <th>close_approach_date</th>\n",
              "      <th>epoch_date_close_approach</th>\n",
              "      <th>orbiting_body</th>\n",
              "      <th>relative_velocity.kilometers_per_second</th>\n",
              "      <th>relative_velocity.kilometers_per_hour</th>\n",
              "    </tr>\n",
              "  </thead>\n",
              "  <tbody>\n",
              "    <tr>\n",
              "      <th>0</th>\n",
              "      <td>2154652</td>\n",
              "      <td>154652 (2004 EP20)</td>\n",
              "      <td>False</td>\n",
              "      <td>483.676488</td>\n",
              "      <td>1081.533507</td>\n",
              "      <td>1995-01-07</td>\n",
              "      <td>789467580000</td>\n",
              "      <td>Earth</td>\n",
              "      <td>16.142864</td>\n",
              "      <td>58114.308667</td>\n",
              "    </tr>\n",
              "    <tr>\n",
              "      <th>1</th>\n",
              "      <td>3153509</td>\n",
              "      <td>(2003 HM)</td>\n",
              "      <td>True</td>\n",
              "      <td>96.506147</td>\n",
              "      <td>215.794305</td>\n",
              "      <td>1995-01-07</td>\n",
              "      <td>789491340000</td>\n",
              "      <td>Earth</td>\n",
              "      <td>12.351044</td>\n",
              "      <td>44463.757734</td>\n",
              "    </tr>\n",
              "    <tr>\n",
              "      <th>2</th>\n",
              "      <td>3516633</td>\n",
              "      <td>(2010 HA)</td>\n",
              "      <td>False</td>\n",
              "      <td>44.111820</td>\n",
              "      <td>98.637028</td>\n",
              "      <td>1995-01-07</td>\n",
              "      <td>789446820000</td>\n",
              "      <td>Earth</td>\n",
              "      <td>6.220435</td>\n",
              "      <td>22393.567277</td>\n",
              "    </tr>\n",
              "    <tr>\n",
              "      <th>3</th>\n",
              "      <td>3837644</td>\n",
              "      <td>(2019 AY3)</td>\n",
              "      <td>False</td>\n",
              "      <td>46.190746</td>\n",
              "      <td>103.285648</td>\n",
              "      <td>1995-01-07</td>\n",
              "      <td>789513900000</td>\n",
              "      <td>Earth</td>\n",
              "      <td>22.478615</td>\n",
              "      <td>80923.015021</td>\n",
              "    </tr>\n",
              "    <tr>\n",
              "      <th>4</th>\n",
              "      <td>3843493</td>\n",
              "      <td>(2019 PY)</td>\n",
              "      <td>False</td>\n",
              "      <td>22.108281</td>\n",
              "      <td>49.435619</td>\n",
              "      <td>1995-01-07</td>\n",
              "      <td>789446700000</td>\n",
              "      <td>Earth</td>\n",
              "      <td>4.998691</td>\n",
              "      <td>17995.288355</td>\n",
              "    </tr>\n",
              "  </tbody>\n",
              "</table>\n",
              "</div>"
            ],
            "text/plain": [
              "        id  ... relative_velocity.kilometers_per_hour\n",
              "0  2154652  ...                          58114.308667\n",
              "1  3153509  ...                          44463.757734\n",
              "2  3516633  ...                          22393.567277\n",
              "3  3837644  ...                          80923.015021\n",
              "4  3843493  ...                          17995.288355\n",
              "\n",
              "[5 rows x 10 columns]"
            ]
          },
          "metadata": {},
          "execution_count": 7
        }
      ]
    },
    {
      "cell_type": "markdown",
      "metadata": {
        "id": "OhyUbCg2J7Ob"
      },
      "source": [
        "### Distribución de los diametros estimados de los meteoritos."
      ]
    },
    {
      "cell_type": "code",
      "metadata": {
        "id": "0Nj401ISIbmF",
        "colab": {
          "base_uri": "https://localhost:8080/",
          "height": 644
        },
        "outputId": "45b3518a-d166-42ca-b086-a99dcee95371"
      },
      "source": [
        "sns.set(context = \"paper\", style=\"whitegrid\")\n",
        "plt.figure(figsize=(15,10)) #tama;o imagen\n",
        "sns.boxplot(x=df['estimated_diameter.meters.estimated_diameter_max'], showmeans=True)\n",
        "df[\"estimated_diameter.meters.estimated_diameter_max\"].median(), df[\"estimated_diameter.meters.estimated_diameter_max\"].mean()\n",
        "plt.title(\"Bloxplot de diametro estimado de meteoritos\", fontsize =17)\n",
        "plt.axvline(x=df[\"estimated_diameter.meters.estimated_diameter_max\"].mean(), c=\"r\")\n",
        "#plt.savefig(\"figura.png\") #guardar imagen "
      ],
      "execution_count": 8,
      "outputs": [
        {
          "output_type": "execute_result",
          "data": {
            "text/plain": [
              "<matplotlib.lines.Line2D at 0x7f9b41b9b8d0>"
            ]
          },
          "metadata": {},
          "execution_count": 8
        },
        {
          "output_type": "display_data",
          "data": {
            "image/png": "[encoded data removed]",
            "text/plain": [
              "<Figure size 1080x720 with 1 Axes>"
            ]
          },
          "metadata": {}
        }
      ]
    },
    {
      "cell_type": "markdown",
      "metadata": {
        "id": "Pkb2KVSTJ75I"
      },
      "source": [
        "### Distribución de la velocidad relativa de los meteoritos en km/s"
      ]
    },
    {
      "cell_type": "code",
      "metadata": {
        "id": "Gtld9lrGIbe4",
        "colab": {
          "base_uri": "https://localhost:8080/",
          "height": 644
        },
        "outputId": "686cb024-c30c-4949-d76c-1d95ad62ad0c"
      },
      "source": [
        "rel=df[\"relative_velocity.kilometers_per_second\"]\n",
        "sns.set(context = \"paper\", style=\"whitegrid\")\n",
        "plt.figure(figsize=(15,10)) #tama;o imagen\n",
        "sns.boxplot(x=rel, showmeans=True)\n",
        "rel.median(), rel.mean()\n",
        "plt.title(\"Bloxplot de diametro estimado de meteoritos\", fontsize =17)\n",
        "plt.axvline(x=rel.mean(), c=\"r\")\n",
        "#plt.savefig(\"figura.png\") #guardar imagen "
      ],
      "execution_count": 9,
      "outputs": [
        {
          "output_type": "execute_result",
          "data": {
            "text/plain": [
              "<matplotlib.lines.Line2D at 0x7f9b41b72590>"
            ]
          },
          "metadata": {},
          "execution_count": 9
        },
        {
          "output_type": "display_data",
          "data": {
            "image/png": "[encoded data removed]",
            "text/plain": [
              "<Figure size 1080x720 with 1 Axes>"
            ]
          },
          "metadata": {}
        }
      ]
    },
    {
      "cell_type": "markdown",
      "metadata": {
        "id": "OdxiVGB6OA7g"
      },
      "source": [
        "##BOXPLOT MELBOURNE HOUSES "
      ]
    },
    {
      "cell_type": "code",
      "metadata": {
        "id": "fJY07K0-IbVb",
        "colab": {
          "base_uri": "https://localhost:8080/",
          "height": 323
        },
        "outputId": "92ddc586-569a-4796-fccc-cb6bee06af0d"
      },
      "source": [
        "df_mel=pd.read_csv(\"/content/drive/MyDrive/BEDU_DS/FASE_3/Remoto Datasets/Remoto melbourne_housing-clean.csv\", index_col=0)\n",
        "df_mel.head()"
      ],
      "execution_count": 11,
      "outputs": [
        {
          "output_type": "execute_result",
          "data": {
            "text/html": [
              "<div>\n",
              "<style scoped>\n",
              "    .dataframe tbody tr th:only-of-type {\n",
              "        vertical-align: middle;\n",
              "    }\n",
              "\n",
              "    .dataframe tbody tr th {\n",
              "        vertical-align: top;\n",
              "    }\n",
              "\n",
              "    .dataframe thead th {\n",
              "        text-align: right;\n",
              "    }\n",
              "</style>\n",
              "<table border=\"1\" class=\"dataframe\">\n",
              "  <thead>\n",
              "    <tr style=\"text-align: right;\">\n",
              "      <th></th>\n",
              "      <th>suburb</th>\n",
              "      <th>address</th>\n",
              "      <th>rooms</th>\n",
              "      <th>type</th>\n",
              "      <th>price</th>\n",
              "      <th>method</th>\n",
              "      <th>seller_g</th>\n",
              "      <th>date</th>\n",
              "      <th>distance</th>\n",
              "      <th>postcode</th>\n",
              "      <th>bedroom_2</th>\n",
              "      <th>bathroom</th>\n",
              "      <th>car</th>\n",
              "      <th>land_size</th>\n",
              "      <th>council_area</th>\n",
              "      <th>latitude</th>\n",
              "      <th>longitude</th>\n",
              "      <th>region_name</th>\n",
              "      <th>property_count</th>\n",
              "    </tr>\n",
              "  </thead>\n",
              "  <tbody>\n",
              "    <tr>\n",
              "      <th>0</th>\n",
              "      <td>Abbotsford</td>\n",
              "      <td>85 Turner St</td>\n",
              "      <td>2</td>\n",
              "      <td>h</td>\n",
              "      <td>1480000.0</td>\n",
              "      <td>S</td>\n",
              "      <td>Biggin</td>\n",
              "      <td>3/12/2016</td>\n",
              "      <td>2.5</td>\n",
              "      <td>3067.0</td>\n",
              "      <td>2.0</td>\n",
              "      <td>1.0</td>\n",
              "      <td>1.0</td>\n",
              "      <td>202.0</td>\n",
              "      <td>Yarra</td>\n",
              "      <td>-37.7996</td>\n",
              "      <td>144.9984</td>\n",
              "      <td>Northern Metropolitan</td>\n",
              "      <td>4019.0</td>\n",
              "    </tr>\n",
              "    <tr>\n",
              "      <th>1</th>\n",
              "      <td>Abbotsford</td>\n",
              "      <td>25 Bloomburg St</td>\n",
              "      <td>2</td>\n",
              "      <td>h</td>\n",
              "      <td>1035000.0</td>\n",
              "      <td>S</td>\n",
              "      <td>Biggin</td>\n",
              "      <td>4/02/2016</td>\n",
              "      <td>2.5</td>\n",
              "      <td>3067.0</td>\n",
              "      <td>2.0</td>\n",
              "      <td>1.0</td>\n",
              "      <td>0.0</td>\n",
              "      <td>156.0</td>\n",
              "      <td>Yarra</td>\n",
              "      <td>-37.8079</td>\n",
              "      <td>144.9934</td>\n",
              "      <td>Northern Metropolitan</td>\n",
              "      <td>4019.0</td>\n",
              "    </tr>\n",
              "    <tr>\n",
              "      <th>2</th>\n",
              "      <td>Abbotsford</td>\n",
              "      <td>5 Charles St</td>\n",
              "      <td>3</td>\n",
              "      <td>h</td>\n",
              "      <td>1465000.0</td>\n",
              "      <td>SP</td>\n",
              "      <td>Biggin</td>\n",
              "      <td>4/03/2017</td>\n",
              "      <td>2.5</td>\n",
              "      <td>3067.0</td>\n",
              "      <td>3.0</td>\n",
              "      <td>2.0</td>\n",
              "      <td>0.0</td>\n",
              "      <td>134.0</td>\n",
              "      <td>Yarra</td>\n",
              "      <td>-37.8093</td>\n",
              "      <td>144.9944</td>\n",
              "      <td>Northern Metropolitan</td>\n",
              "      <td>4019.0</td>\n",
              "    </tr>\n",
              "    <tr>\n",
              "      <th>3</th>\n",
              "      <td>Abbotsford</td>\n",
              "      <td>40 Federation La</td>\n",
              "      <td>3</td>\n",
              "      <td>h</td>\n",
              "      <td>850000.0</td>\n",
              "      <td>PI</td>\n",
              "      <td>Biggin</td>\n",
              "      <td>4/03/2017</td>\n",
              "      <td>2.5</td>\n",
              "      <td>3067.0</td>\n",
              "      <td>3.0</td>\n",
              "      <td>2.0</td>\n",
              "      <td>1.0</td>\n",
              "      <td>94.0</td>\n",
              "      <td>Yarra</td>\n",
              "      <td>-37.7969</td>\n",
              "      <td>144.9969</td>\n",
              "      <td>Northern Metropolitan</td>\n",
              "      <td>4019.0</td>\n",
              "    </tr>\n",
              "    <tr>\n",
              "      <th>4</th>\n",
              "      <td>Abbotsford</td>\n",
              "      <td>55a Park St</td>\n",
              "      <td>4</td>\n",
              "      <td>h</td>\n",
              "      <td>1600000.0</td>\n",
              "      <td>VB</td>\n",
              "      <td>Nelson</td>\n",
              "      <td>4/06/2016</td>\n",
              "      <td>2.5</td>\n",
              "      <td>3067.0</td>\n",
              "      <td>3.0</td>\n",
              "      <td>1.0</td>\n",
              "      <td>2.0</td>\n",
              "      <td>120.0</td>\n",
              "      <td>Yarra</td>\n",
              "      <td>-37.8072</td>\n",
              "      <td>144.9941</td>\n",
              "      <td>Northern Metropolitan</td>\n",
              "      <td>4019.0</td>\n",
              "    </tr>\n",
              "  </tbody>\n",
              "</table>\n",
              "</div>"
            ],
            "text/plain": [
              "       suburb           address  ...            region_name property_count\n",
              "0  Abbotsford      85 Turner St  ...  Northern Metropolitan         4019.0\n",
              "1  Abbotsford   25 Bloomburg St  ...  Northern Metropolitan         4019.0\n",
              "2  Abbotsford      5 Charles St  ...  Northern Metropolitan         4019.0\n",
              "3  Abbotsford  40 Federation La  ...  Northern Metropolitan         4019.0\n",
              "4  Abbotsford       55a Park St  ...  Northern Metropolitan         4019.0\n",
              "\n",
              "[5 rows x 19 columns]"
            ]
          },
          "metadata": {},
          "execution_count": 11
        }
      ]
    },
    {
      "cell_type": "markdown",
      "metadata": {
        "id": "lN1cELX3gMvp"
      },
      "source": [
        "### Distribución de los precios de las casas de Melbourne."
      ]
    },
    {
      "cell_type": "code",
      "metadata": {
        "id": "cuIj2WuaIbXz",
        "colab": {
          "base_uri": "https://localhost:8080/",
          "height": 302
        },
        "outputId": "dfcb0f44-275a-4ed5-fe8c-09ea7b95e88e"
      },
      "source": [
        "sns.set(style=\"whitegrid\")\n",
        "sns.boxplot(x=df_mel['price'])\n",
        "plt.axvline(df_mel['price'].mean(), c='y') "
      ],
      "execution_count": 12,
      "outputs": [
        {
          "output_type": "execute_result",
          "data": {
            "text/plain": [
              "<matplotlib.lines.Line2D at 0x7f9b3968a790>"
            ]
          },
          "metadata": {},
          "execution_count": 12
        },
        {
          "output_type": "display_data",
          "data": {
            "image/png": "[encoded data removed]",
            "text/plain": [
              "<Figure size 432x288 with 1 Axes>"
            ]
          },
          "metadata": {}
        }
      ]
    },
    {
      "cell_type": "markdown",
      "metadata": {
        "id": "0QhjCKBtHfz2"
      },
      "source": [
        "Vemos que este conjunto de datos tiene demasiados valores atipicos en sus precios, por lo que es conveniente limpiarlo un poco para obtener un rango de precios mas razonable. "
      ]
    },
    {
      "cell_type": "markdown",
      "metadata": {
        "id": "IjbLrXI5gNa8"
      },
      "source": [
        "###Distribución del tamaño de los terrenos de Melbourne. "
      ]
    },
    {
      "cell_type": "code",
      "metadata": {
        "id": "7W9mbxSqKzY_",
        "colab": {
          "base_uri": "https://localhost:8080/",
          "height": 900
        },
        "outputId": "95ad357b-2a28-4eee-af09-7c95885c18b1"
      },
      "source": [
        "sns.set(style=\"whitegrid\")\n",
        "plt.figure(figsize=(25,15))\n",
        "sns.boxplot(x=df_mel['land_size'])\n",
        "plt.axvline(df_mel['land_size'].mean(), c='y')"
      ],
      "execution_count": 13,
      "outputs": [
        {
          "output_type": "execute_result",
          "data": {
            "text/plain": [
              "<matplotlib.lines.Line2D at 0x7f9b3933ff10>"
            ]
          },
          "metadata": {},
          "execution_count": 13
        },
        {
          "output_type": "display_data",
          "data": {
            "image/png": "[encoded data removed]",
            "text/plain": [
              "<Figure size 1800x1080 with 1 Axes>"
            ]
          },
          "metadata": {}
        }
      ]
    },
    {
      "cell_type": "markdown",
      "metadata": {
        "id": "0ZnhdaYiNHaq"
      },
      "source": [
        "##BOXPLOTS DE DATAFRAME NEW YORK TIMES BESTSELLERS "
      ]
    },
    {
      "cell_type": "code",
      "metadata": {
        "id": "-zdkPuUIIbaO"
      },
      "source": [
        "import json\n",
        "ny=open(\"/content/drive/MyDrive/BEDU_DS/FASE_3/Remoto Datasets/Remoto new_york_times_bestsellers-clean.json\", \"r\" ) \n",
        "ny_json=json.load(ny)\n",
        "ny.close()\n"
      ],
      "execution_count": 14,
      "outputs": []
    },
    {
      "cell_type": "code",
      "metadata": {
        "id": "tyCn8JMDM4hm",
        "colab": {
          "base_uri": "https://localhost:8080/",
          "height": 1000
        },
        "outputId": "a86bd64f-1c30-4ba4-9418-03b4e90fe621"
      },
      "source": [
        "df_ny=pd.DataFrame.from_dict(ny_json)\n",
        "df_ny"
      ],
      "execution_count": 15,
      "outputs": [
        {
          "output_type": "execute_result",
          "data": {
            "text/html": [
              "<div>\n",
              "<style scoped>\n",
              "    .dataframe tbody tr th:only-of-type {\n",
              "        vertical-align: middle;\n",
              "    }\n",
              "\n",
              "    .dataframe tbody tr th {\n",
              "        vertical-align: top;\n",
              "    }\n",
              "\n",
              "    .dataframe thead th {\n",
              "        text-align: right;\n",
              "    }\n",
              "</style>\n",
              "<table border=\"1\" class=\"dataframe\">\n",
              "  <thead>\n",
              "    <tr style=\"text-align: right;\">\n",
              "      <th></th>\n",
              "      <th>amazon_product_url</th>\n",
              "      <th>author</th>\n",
              "      <th>description</th>\n",
              "      <th>publisher</th>\n",
              "      <th>title</th>\n",
              "      <th>oid</th>\n",
              "      <th>bestsellers_date.numberLong</th>\n",
              "      <th>published_date.numberLong</th>\n",
              "      <th>rank.numberInt</th>\n",
              "      <th>rank_last_week.numberInt</th>\n",
              "      <th>weeks_on_list.numberInt</th>\n",
              "      <th>price.numberDouble</th>\n",
              "    </tr>\n",
              "  </thead>\n",
              "  <tbody>\n",
              "    <tr>\n",
              "      <th>0</th>\n",
              "      <td>http://www.amazon.com/The-Host-Novel-Stephenie...</td>\n",
              "      <td>Stephenie Meyer</td>\n",
              "      <td>Aliens have taken control of the minds and bod...</td>\n",
              "      <td>Little, Brown</td>\n",
              "      <td>THE HOST</td>\n",
              "      <td>5b4aa4ead3089013507db18c</td>\n",
              "      <td>1211587200000</td>\n",
              "      <td>1212883200000</td>\n",
              "      <td>2</td>\n",
              "      <td>1</td>\n",
              "      <td>3</td>\n",
              "      <td>25.99</td>\n",
              "    </tr>\n",
              "    <tr>\n",
              "      <th>1</th>\n",
              "      <td>http://www.amazon.com/Love-Youre-With-Emily-Gi...</td>\n",
              "      <td>Emily Giffin</td>\n",
              "      <td>A woman's happy marriage is shaken when she en...</td>\n",
              "      <td>St. Martin's</td>\n",
              "      <td>LOVE THE ONE YOU'RE WITH</td>\n",
              "      <td>5b4aa4ead3089013507db18d</td>\n",
              "      <td>1211587200000</td>\n",
              "      <td>1212883200000</td>\n",
              "      <td>3</td>\n",
              "      <td>2</td>\n",
              "      <td>2</td>\n",
              "      <td>24.95</td>\n",
              "    </tr>\n",
              "    <tr>\n",
              "      <th>2</th>\n",
              "      <td>http://www.amazon.com/The-Front-Garano-Patrici...</td>\n",
              "      <td>Patricia Cornwell</td>\n",
              "      <td>A Massachusetts state investigator and his tea...</td>\n",
              "      <td>Putnam</td>\n",
              "      <td>THE FRONT</td>\n",
              "      <td>5b4aa4ead3089013507db18e</td>\n",
              "      <td>1211587200000</td>\n",
              "      <td>1212883200000</td>\n",
              "      <td>4</td>\n",
              "      <td>0</td>\n",
              "      <td>1</td>\n",
              "      <td>22.95</td>\n",
              "    </tr>\n",
              "    <tr>\n",
              "      <th>3</th>\n",
              "      <td>http://www.amazon.com/Snuff-Chuck-Palahniuk/dp...</td>\n",
              "      <td>Chuck Palahniuk</td>\n",
              "      <td>An aging porn queens aims to cap her career by...</td>\n",
              "      <td>Doubleday</td>\n",
              "      <td>SNUFF</td>\n",
              "      <td>5b4aa4ead3089013507db18f</td>\n",
              "      <td>1211587200000</td>\n",
              "      <td>1212883200000</td>\n",
              "      <td>5</td>\n",
              "      <td>0</td>\n",
              "      <td>1</td>\n",
              "      <td>24.95</td>\n",
              "    </tr>\n",
              "    <tr>\n",
              "      <th>4</th>\n",
              "      <td>http://www.amazon.com/Sundays-at-Tiffanys-Jame...</td>\n",
              "      <td>James Patterson and Gabrielle Charbonnet</td>\n",
              "      <td>A woman finds an unexpected love</td>\n",
              "      <td>Little, Brown</td>\n",
              "      <td>SUNDAYS AT TIFFANY’S</td>\n",
              "      <td>5b4aa4ead3089013507db190</td>\n",
              "      <td>1211587200000</td>\n",
              "      <td>1212883200000</td>\n",
              "      <td>6</td>\n",
              "      <td>3</td>\n",
              "      <td>4</td>\n",
              "      <td>24.99</td>\n",
              "    </tr>\n",
              "    <tr>\n",
              "      <th>...</th>\n",
              "      <td>...</td>\n",
              "      <td>...</td>\n",
              "      <td>...</td>\n",
              "      <td>...</td>\n",
              "      <td>...</td>\n",
              "      <td>...</td>\n",
              "      <td>...</td>\n",
              "      <td>...</td>\n",
              "      <td>...</td>\n",
              "      <td>...</td>\n",
              "      <td>...</td>\n",
              "      <td>...</td>\n",
              "    </tr>\n",
              "    <tr>\n",
              "      <th>3028</th>\n",
              "      <td>http://www.amazon.com/Six-Years-Harlan-Coben/d...</td>\n",
              "      <td>Harlan Coben</td>\n",
              "      <td>Jake Fisher discovers that neither the woman h...</td>\n",
              "      <td>Dutton</td>\n",
              "      <td>SIX YEARS</td>\n",
              "      <td>5b4aa4ead3089013507dc593</td>\n",
              "      <td>1366416000000</td>\n",
              "      <td>1367712000000</td>\n",
              "      <td>9</td>\n",
              "      <td>8</td>\n",
              "      <td>5</td>\n",
              "      <td>27.95</td>\n",
              "    </tr>\n",
              "    <tr>\n",
              "      <th>3029</th>\n",
              "      <td>http://www.amazon.com/The-Interestings-Novel-M...</td>\n",
              "      <td>Meg Wolitzer</td>\n",
              "      <td>Six friends meet in the 1970s at a summer arts...</td>\n",
              "      <td>Riverhead</td>\n",
              "      <td>THE INTERESTINGS</td>\n",
              "      <td>5b4aa4ead3089013507dc595</td>\n",
              "      <td>1366416000000</td>\n",
              "      <td>1367712000000</td>\n",
              "      <td>11</td>\n",
              "      <td>11</td>\n",
              "      <td>2</td>\n",
              "      <td>27.95</td>\n",
              "    </tr>\n",
              "    <tr>\n",
              "      <th>3030</th>\n",
              "      <td>http://www.amazon.com/Man-Without-Breath-Berni...</td>\n",
              "      <td>Philip Kerr</td>\n",
              "      <td>Bernie Gunther, the Berlin cop, is sent to Smo...</td>\n",
              "      <td>Marian Wood/Putnam</td>\n",
              "      <td>A MAN WITHOUT BREATH</td>\n",
              "      <td>5b4aa4ead3089013507dc597</td>\n",
              "      <td>1366416000000</td>\n",
              "      <td>1367712000000</td>\n",
              "      <td>13</td>\n",
              "      <td>0</td>\n",
              "      <td>1</td>\n",
              "      <td>26.95</td>\n",
              "    </tr>\n",
              "    <tr>\n",
              "      <th>3031</th>\n",
              "      <td>http://www.amazon.com/The-Storyteller-Jodi-Pic...</td>\n",
              "      <td>Jodi Picoult</td>\n",
              "      <td>A New Hampshire baker finds herself in the mid...</td>\n",
              "      <td>Emily Bestler/Atria</td>\n",
              "      <td>THE STORYTELLER</td>\n",
              "      <td>5b4aa4ead3089013507dc598</td>\n",
              "      <td>1366416000000</td>\n",
              "      <td>1367712000000</td>\n",
              "      <td>14</td>\n",
              "      <td>10</td>\n",
              "      <td>8</td>\n",
              "      <td>28.99</td>\n",
              "    </tr>\n",
              "    <tr>\n",
              "      <th>3032</th>\n",
              "      <td>http://www.amazon.com/Z-A-Novel-Zelda-Fitzgera...</td>\n",
              "      <td>Therese Anne Fowler</td>\n",
              "      <td>A novel based on the lives of Zelda and F. Sco...</td>\n",
              "      <td>St. Martin's</td>\n",
              "      <td>Z</td>\n",
              "      <td>5b4aa4ead3089013507dc59a</td>\n",
              "      <td>1366416000000</td>\n",
              "      <td>1367712000000</td>\n",
              "      <td>16</td>\n",
              "      <td>0</td>\n",
              "      <td>3</td>\n",
              "      <td>25.99</td>\n",
              "    </tr>\n",
              "  </tbody>\n",
              "</table>\n",
              "<p>3033 rows × 12 columns</p>\n",
              "</div>"
            ],
            "text/plain": [
              "                                     amazon_product_url  ... price.numberDouble\n",
              "0     http://www.amazon.com/The-Host-Novel-Stephenie...  ...              25.99\n",
              "1     http://www.amazon.com/Love-Youre-With-Emily-Gi...  ...              24.95\n",
              "2     http://www.amazon.com/The-Front-Garano-Patrici...  ...              22.95\n",
              "3     http://www.amazon.com/Snuff-Chuck-Palahniuk/dp...  ...              24.95\n",
              "4     http://www.amazon.com/Sundays-at-Tiffanys-Jame...  ...              24.99\n",
              "...                                                 ...  ...                ...\n",
              "3028  http://www.amazon.com/Six-Years-Harlan-Coben/d...  ...              27.95\n",
              "3029  http://www.amazon.com/The-Interestings-Novel-M...  ...              27.95\n",
              "3030  http://www.amazon.com/Man-Without-Breath-Berni...  ...              26.95\n",
              "3031  http://www.amazon.com/The-Storyteller-Jodi-Pic...  ...              28.99\n",
              "3032  http://www.amazon.com/Z-A-Novel-Zelda-Fitzgera...  ...              25.99\n",
              "\n",
              "[3033 rows x 12 columns]"
            ]
          },
          "metadata": {},
          "execution_count": 15
        }
      ]
    },
    {
      "cell_type": "markdown",
      "metadata": {
        "id": "JRg8O46_gg09"
      },
      "source": [
        "###Distribución de los precios de los libros bestsellers."
      ]
    },
    {
      "cell_type": "code",
      "metadata": {
        "id": "ilqhiS-0M4kO",
        "colab": {
          "base_uri": "https://localhost:8080/",
          "height": 302
        },
        "outputId": "b0d25243-3003-4f90-b2e8-a0de5c88c87e"
      },
      "source": [
        "sns.boxplot(x=df_ny[\"price.numberDouble\"])"
      ],
      "execution_count": 16,
      "outputs": [
        {
          "output_type": "execute_result",
          "data": {
            "text/plain": [
              "<matplotlib.axes._subplots.AxesSubplot at 0x7f9b41b89cd0>"
            ]
          },
          "metadata": {},
          "execution_count": 16
        },
        {
          "output_type": "display_data",
          "data": {
            "image/png": "[encoded data removed]",
            "text/plain": [
              "<Figure size 432x288 with 1 Axes>"
            ]
          },
          "metadata": {}
        }
      ]
    },
    {
      "cell_type": "markdown",
      "metadata": {
        "id": "7X8g51CuQif6"
      },
      "source": [
        "#ELIMINANDO LOS OUTLIERS"
      ]
    },
    {
      "cell_type": "markdown",
      "metadata": {
        "id": "nVYdqfGSHHLZ"
      },
      "source": [
        "#### b) Eliminando valores atípicos\n",
        "\n",
        "A partir de las visualizaciones que realizaste en el punto anterior, decide en cuáles columnas tenemos valores atípicos que pueden estorbarnos en nuestro análisis. Elimina dichos valores atípicos usando el Score de Rango Intercuartílico. Puedes probar variando un poco la medida del Score (1.5 * IQR) para eliminar solamente los valores que tú consideras como extremos.\n",
        "\n",
        "Para observar los cambios a detalle, obtén la mediana, la media y la desviación estándar de tus datos *antes* y *después* de eliminar los valores atípicos. Compara estos valores y explica qué es lo que está pasando.\n",
        "\n",
        "Grafica de nuevo tus datos sin valores atípicos para compararlos con las gráficas anteriores.\n",
        "\n",
        "Comenta con la experta y tus compañeros tus hallazgos."
      ]
    },
    {
      "cell_type": "markdown",
      "metadata": {
        "id": "LheIhFPHH84z"
      },
      "source": [
        "##Eliminamos los valores atipicos de la variable de diametro estimado del meteorito del dataframe de la NASA."
      ]
    },
    {
      "cell_type": "code",
      "metadata": {
        "id": "WK3KhfCSO2tG"
      },
      "source": [
        "edm=df_nasa[\"estimated_diameter.meters.estimated_diameter_max\"]\n",
        "iqr = edm.quantile(0.75) - edm.quantile(0.25)\n",
        "filtro_inferior = edm > edm.quantile(0.25) - (iqr * 1.5)\n",
        "filtro_superior = edm < edm.quantile(0.75) + (iqr * 1.5)\n",
        "\n",
        "df_filtrado = df[filtro_inferior & filtro_superior]"
      ],
      "execution_count": 17,
      "outputs": []
    },
    {
      "cell_type": "code",
      "metadata": {
        "id": "BtsbS_GJO2qp",
        "colab": {
          "base_uri": "https://localhost:8080/",
          "height": 356
        },
        "outputId": "91755bde-d179-4752-9530-7198b8fb26af"
      },
      "source": [
        "sns.boxplot(df_filtrado[\"estimated_diameter.meters.estimated_diameter_max\"])"
      ],
      "execution_count": 18,
      "outputs": [
        {
          "output_type": "stream",
          "name": "stderr",
          "text": [
            "/usr/local/lib/python3.7/dist-packages/seaborn/_decorators.py:43: FutureWarning: Pass the following variable as a keyword arg: x. From version 0.12, the only valid positional argument will be `data`, and passing other arguments without an explicit keyword will result in an error or misinterpretation.\n",
            "  FutureWarning\n"
          ]
        },
        {
          "output_type": "execute_result",
          "data": {
            "text/plain": [
              "<matplotlib.axes._subplots.AxesSubplot at 0x7f9b41b1d3d0>"
            ]
          },
          "metadata": {},
          "execution_count": 18
        },
        {
          "output_type": "display_data",
          "data": {
            "image/png": "[encoded data removed]",
            "text/plain": [
              "<Figure size 432x288 with 1 Axes>"
            ]
          },
          "metadata": {}
        }
      ]
    },
    {
      "cell_type": "markdown",
      "metadata": {
        "id": "cgkAFH7weug9"
      },
      "source": [
        "##Eliminamos los valores atipicos de la columna Land size del df de Melbourne."
      ]
    },
    {
      "cell_type": "code",
      "metadata": {
        "id": "mrXqtPh_O2e8"
      },
      "source": [
        "land=df_mel[\"land_size\"]\n",
        "iqr = land.quantile(0.75) - land.quantile(0.25)\n",
        "filtro_inferior = land > land.quantile(0.25) - (iqr * 1.5)\n",
        "filtro_superior = land < land.quantile(0.75) + (iqr * 1.5)\n",
        "\n",
        "df_filtrado = df_mel[filtro_inferior & filtro_superior]"
      ],
      "execution_count": 23,
      "outputs": []
    },
    {
      "cell_type": "code",
      "metadata": {
        "colab": {
          "base_uri": "https://localhost:8080/",
          "height": 356
        },
        "id": "7DEcert5Iqnv",
        "outputId": "26e284b2-bb28-4597-8a5d-526e58f6fd2b"
      },
      "source": [
        "sns.boxplot(df_filtrado[\"land_size\"])"
      ],
      "execution_count": 24,
      "outputs": [
        {
          "output_type": "stream",
          "name": "stderr",
          "text": [
            "/usr/local/lib/python3.7/dist-packages/seaborn/_decorators.py:43: FutureWarning: Pass the following variable as a keyword arg: x. From version 0.12, the only valid positional argument will be `data`, and passing other arguments without an explicit keyword will result in an error or misinterpretation.\n",
            "  FutureWarning\n"
          ]
        },
        {
          "output_type": "execute_result",
          "data": {
            "text/plain": [
              "<matplotlib.axes._subplots.AxesSubplot at 0x7f9b37c3a610>"
            ]
          },
          "metadata": {},
          "execution_count": 24
        },
        {
          "output_type": "display_data",
          "data": {
            "image/png": "[encoded data removed]",
            "text/plain": [
              "<Figure size 432x288 with 1 Axes>"
            ]
          },
          "metadata": {}
        }
      ]
    }
  ]
}