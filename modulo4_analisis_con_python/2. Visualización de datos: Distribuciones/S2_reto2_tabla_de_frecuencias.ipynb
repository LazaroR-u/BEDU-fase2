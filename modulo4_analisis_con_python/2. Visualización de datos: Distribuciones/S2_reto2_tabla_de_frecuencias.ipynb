{
  "nbformat": 4,
  "nbformat_minor": 0,
  "metadata": {
    "kernelspec": {
      "display_name": "Python (data_science)",
      "language": "python",
      "name": "data_science"
    },
    "language_info": {
      "codemirror_mode": {
        "name": "ipython",
        "version": 3
      },
      "file_extension": ".py",
      "mimetype": "text/x-python",
      "name": "python",
      "nbconvert_exporter": "python",
      "pygments_lexer": "ipython3",
      "version": "3.8.5"
    },
    "colab": {
      "name": "S2_reto2_tabla_de_frecuencias.ipynb",
      "provenance": [],
      "collapsed_sections": []
    }
  },
  "cells": [
    {
      "cell_type": "markdown",
      "metadata": {
        "id": "K5plpIpNGsEM"
      },
      "source": [
        "**Lázaro R. Díaz Lievano**"
      ]
    },
    {
      "cell_type": "markdown",
      "metadata": {
        "id": "7-dsWiJUSVf7"
      },
      "source": [
        "# Reto 2: Tablas de frecuencias\n",
        "\n",
        "### 1. Objetivos:\n",
        "    - Aprender a generar tablas de frecuencias segmentando nuestros datos\n",
        " \n",
        "---\n",
        "    \n",
        "### 2. Desarrollo:"
      ]
    },
    {
      "cell_type": "markdown",
      "metadata": {
        "id": "axf3q9ENSVgA"
      },
      "source": [
        "#### a) Analizando distribución con tablas de frecuencias\n",
        "\n",
        "Vamos a generar tablas de frecuencias de los siguientes datasets y columnas:\n",
        "\n",
        "1. Dataset: 'near_earth_objects-jan_feb_1995-clean.csv'\n",
        "    - Columnas a graficar: 'estimated_diameter.meters.estimated_diameter_max' y 'relative_velocity.kilometers_per_second'\n",
        "2. Dataset: 'new_york_times_bestsellers-clean.json'\n",
        "    - Columnas a graficar: 'price.numberDouble'\n",
        "3. Dataset: 'melbourne_housing-clean.csv'\n",
        "    - Columnas a graficar: 'land_size'\n",
        "    \n",
        "Estos conjuntos de datos son los mismos que graficamos en el Reto anterior. Antes de generar las tablas de frecuencias, revisa el rango de tus conjuntos de datos y decide el número de segmentos adecuado para cada uno.\n",
        "\n",
        "Después, genera las tablas de frecuencias para cada uno de estos conjuntos de datos y compáralos con las gráficas de caja que realizaste en el Reto anterior. ¿Hay información nueva? ¿Qué ventajas o desventajas nos da esta nueva perspectiva?\n",
        "\n",
        "Piensa cuál de las dos aproximaciones (boxplots y tablas de frecuencia) resulta más útil para detectar valores atípicos. ¿O simplemente son útiles en diferentes contextos?"
      ]
    },
    {
      "cell_type": "code",
      "metadata": {
        "id": "x0uVGJSXSXSj"
      },
      "source": [
        "import pandas as pd\n",
        "import json \n",
        "import matplotlib.pyplot as plt\n",
        "import seaborn as sns"
      ],
      "execution_count": null,
      "outputs": []
    },
    {
      "cell_type": "code",
      "metadata": {
        "id": "GdTl9bOCSbk5"
      },
      "source": [
        "df_houses=pd.read_csv(\"/content/drive/MyDrive/BEDU_DS/FASE_3/Remoto Datasets/Remoto melbourne_housing-clean.csv\", index_col=0)\n",
        "df_nasa=pd.read_csv(\"/content/drive/MyDrive/BEDU_DS/FASE_3/Remoto Datasets/Remoto near_earth_objects-jan_feb_1995-clean.csv\", index_col=0)\n",
        "\n",
        "ny=pd.read_json(\"/content/drive/MyDrive/BEDU_DS/FASE_3/Remoto Datasets/Remoto new_york_times_bestsellers-clean.json\")\n",
        "df_ny=pd.DataFrame.from_dict(ny)"
      ],
      "execution_count": null,
      "outputs": []
    },
    {
      "cell_type": "code",
      "metadata": {
        "id": "2ASfk9ZeTCgL",
        "colab": {
          "base_uri": "https://localhost:8080/"
        },
        "outputId": "6e28bd1c-caed-4962-8c52-721987c51d8c"
      },
      "source": [
        "from google.colab import drive\n",
        "drive.mount('/content/drive')"
      ],
      "execution_count": null,
      "outputs": [
        {
          "output_type": "stream",
          "text": [
            "Drive already mounted at /content/drive; to attempt to forcibly remount, call drive.mount(\"/content/drive\", force_remount=True).\n"
          ],
          "name": "stdout"
        }
      ]
    },
    {
      "cell_type": "markdown",
      "metadata": {
        "id": "0D7FPnwMT-Qc"
      },
      "source": [
        "##DF NASA"
      ]
    },
    {
      "cell_type": "markdown",
      "metadata": {
        "id": "10tPpysjGQ3j"
      },
      "source": [
        "###Tabla de frecuencia de estimados máximos de los diametros de meteoritos."
      ]
    },
    {
      "cell_type": "code",
      "metadata": {
        "id": "aZL0qvE-SbiT",
        "colab": {
          "base_uri": "https://localhost:8080/"
        },
        "outputId": "ee3f97c6-cd89-4beb-bfb3-d85c8a47f86e"
      },
      "source": [
        "estim=df_nasa[ 'estimated_diameter.meters.estimated_diameter_max']\n",
        "estim.max()-estim.min()\n",
        "pd.cut(estim,18)\n",
        "\n",
        "seg_estim = pd.cut(estim, 25)\n",
        "#agrupamiento por segmento y luego los contamos\n",
        "estim.groupby(seg_estim).count()"
      ],
      "execution_count": null,
      "outputs": [
        {
          "output_type": "execute_result",
          "data": {
            "text/plain": [
              "estimated_diameter.meters.estimated_diameter_max\n",
              "(-3.535, 263.535]       175\n",
              "(263.535, 524.091]       76\n",
              "(524.091, 784.647]       38\n",
              "(784.647, 1045.204]      17\n",
              "(1045.204, 1305.76]      10\n",
              "(1305.76, 1566.316]       4\n",
              "(1566.316, 1826.872]      6\n",
              "(1826.872, 2087.428]      0\n",
              "(2087.428, 2347.985]      1\n",
              "(2347.985, 2608.541]      1\n",
              "(2608.541, 2869.097]      1\n",
              "(2869.097, 3129.653]      1\n",
              "(3129.653, 3390.209]      1\n",
              "(3390.209, 3650.766]      0\n",
              "(3650.766, 3911.322]      1\n",
              "(3911.322, 4171.878]      0\n",
              "(4171.878, 4432.434]      0\n",
              "(4432.434, 4692.99]       0\n",
              "(4692.99, 4953.547]       0\n",
              "(4953.547, 5214.103]      0\n",
              "(5214.103, 5474.659]      0\n",
              "(5474.659, 5735.215]      0\n",
              "(5735.215, 5995.771]      0\n",
              "(5995.771, 6256.328]      0\n",
              "(6256.328, 6516.884]      1\n",
              "Name: estimated_diameter.meters.estimated_diameter_max, dtype: int64"
            ]
          },
          "metadata": {},
          "execution_count": 26
        }
      ]
    },
    {
      "cell_type": "markdown",
      "metadata": {
        "id": "VPyAPF7tFxxY"
      },
      "source": [
        "###Tabla de frecuencia de velocidad relativa en km/s "
      ]
    },
    {
      "cell_type": "code",
      "metadata": {
        "id": "x9KdSKIrSbfr",
        "colab": {
          "base_uri": "https://localhost:8080/"
        },
        "outputId": "7b463b25-c2e2-4f0c-87d8-de174d43e659"
      },
      "source": [
        "rel_v=df_nasa['relative_velocity.kilometers_per_second']\n",
        "rel_v.max()-rel_v.min()\n",
        "\n",
        "seg_rel = pd.cut(rel_v, 10)\n",
        "#agrupamiento por segmento y luego los contamos\n",
        "rel_v.groupby(seg_rel).count()"
      ],
      "execution_count": null,
      "outputs": [
        {
          "output_type": "execute_result",
          "data": {
            "text/plain": [
              "relative_velocity.kilometers_per_second\n",
              "(0.642, 4.666]      19\n",
              "(4.666, 8.651]      66\n",
              "(8.651, 12.635]     59\n",
              "(12.635, 16.62]     67\n",
              "(16.62, 20.604]     54\n",
              "(20.604, 24.589]    25\n",
              "(24.589, 28.574]    17\n",
              "(28.574, 32.558]    16\n",
              "(32.558, 36.543]     5\n",
              "(36.543, 40.527]     5\n",
              "Name: relative_velocity.kilometers_per_second, dtype: int64"
            ]
          },
          "metadata": {},
          "execution_count": 25
        }
      ]
    },
    {
      "cell_type": "markdown",
      "metadata": {
        "id": "U2lxmo8VVpwW"
      },
      "source": [
        "##DF BESTSELLERS "
      ]
    },
    {
      "cell_type": "markdown",
      "metadata": {
        "id": "MAP_xZToHKzC"
      },
      "source": [
        "###Tabla de frecuencias de los precios de los libros bestsellers"
      ]
    },
    {
      "cell_type": "code",
      "metadata": {
        "id": "Nso6Z6pxSbdX",
        "colab": {
          "base_uri": "https://localhost:8080/"
        },
        "outputId": "8b75dafa-de84-4b4f-8035-c6eb4f1438fc"
      },
      "source": [
        "ny_price=df_ny[\"price.numberDouble\"]\n",
        "ny_price.max()-ny_price.min()\n",
        "\n",
        "seg_ny = pd.cut(ny_price, 4)\n",
        "#agrupamiento por segmento y luego los contamos\n",
        "ny_price.groupby(seg_ny).count()"
      ],
      "execution_count": null,
      "outputs": [
        {
          "output_type": "execute_result",
          "data": {
            "text/plain": [
              "price.numberDouble\n",
              "(14.97, 19.99]      47\n",
              "(19.99, 24.99]     479\n",
              "(24.99, 29.99]    2486\n",
              "(29.99, 34.99]      21\n",
              "Name: price.numberDouble, dtype: int64"
            ]
          },
          "metadata": {},
          "execution_count": 33
        }
      ]
    },
    {
      "cell_type": "markdown",
      "metadata": {
        "id": "_06ZahsVW3DK"
      },
      "source": [
        "##DF MELBOURNE "
      ]
    },
    {
      "cell_type": "markdown",
      "metadata": {
        "id": "VyjeCRoPHSS8"
      },
      "source": [
        "###Tabla de frecuencias de los tamaños de los terrenos en Melbourne."
      ]
    },
    {
      "cell_type": "code",
      "metadata": {
        "id": "o32rayQoSba5",
        "colab": {
          "base_uri": "https://localhost:8080/"
        },
        "outputId": "51ae9707-c652-433a-90a6-f487f26034ea"
      },
      "source": [
        "house_size=df_houses[\"land_size\"]\n",
        "house_size.max()-house_size.min()\n",
        "\n",
        "seg_house = pd.cut(house_size, 20)\n",
        "#agrupamiento por segmento y luego los contamos\n",
        "house_size.groupby(seg_house).count()"
      ],
      "execution_count": null,
      "outputs": [
        {
          "output_type": "execute_result",
          "data": {
            "text/plain": [
              "land_size\n",
              "(-76.0, 3800.0]       11560\n",
              "(3800.0, 7600.0]         59\n",
              "(7600.0, 11400.0]         9\n",
              "(11400.0, 15200.0]        3\n",
              "(15200.0, 19000.0]        7\n",
              "(19000.0, 22800.0]        2\n",
              "(22800.0, 26600.0]        0\n",
              "(26600.0, 30400.0]        0\n",
              "(30400.0, 34200.0]        0\n",
              "(34200.0, 38000.0]        2\n",
              "(38000.0, 41800.0]        2\n",
              "(41800.0, 45600.0]        0\n",
              "(45600.0, 49400.0]        0\n",
              "(49400.0, 53200.0]        0\n",
              "(53200.0, 57000.0]        0\n",
              "(57000.0, 60800.0]        0\n",
              "(60800.0, 64600.0]        0\n",
              "(64600.0, 68400.0]        0\n",
              "(68400.0, 72200.0]        0\n",
              "(72200.0, 76000.0]        2\n",
              "Name: land_size, dtype: int64"
            ]
          },
          "metadata": {},
          "execution_count": 38
        }
      ]
    },
    {
      "cell_type": "code",
      "metadata": {
        "id": "7xxxSQW0SbYj"
      },
      "source": [
        ""
      ],
      "execution_count": null,
      "outputs": []
    }
  ]
}