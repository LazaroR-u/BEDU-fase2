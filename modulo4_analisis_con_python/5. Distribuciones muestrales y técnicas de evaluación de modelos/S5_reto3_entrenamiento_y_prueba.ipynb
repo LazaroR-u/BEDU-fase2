{
  "nbformat": 4,
  "nbformat_minor": 0,
  "metadata": {
    "kernelspec": {
      "display_name": "Python (data_science)",
      "language": "python",
      "name": "data_science"
    },
    "language_info": {
      "codemirror_mode": {
        "name": "ipython",
        "version": 3
      },
      "file_extension": ".py",
      "mimetype": "text/x-python",
      "name": "python",
      "nbconvert_exporter": "python",
      "pygments_lexer": "ipython3",
      "version": "3.8.5"
    },
    "colab": {
      "name": "S5_reto3_entrenamiento_y_prueba.ipynb",
      "provenance": [],
      "collapsed_sections": []
    }
  },
  "cells": [
    {
      "cell_type": "markdown",
      "metadata": {
        "id": "dhS6V0C3Rzc2"
      },
      "source": [
        "## Reto 3: Dataset de entrenamiento y de prueba\n",
        "\n",
        "### 1. Objetivos:\n",
        "    - Aplicar la técnica de división del dataset en entrenamiento y prueba para entrenar un modelo de Regresión Linear Múltiple\n",
        " \n",
        "---\n",
        "    \n",
        "### 2. Desarrollo:"
      ]
    },
    {
      "cell_type": "markdown",
      "metadata": {
        "id": "wnOpTjfQRzc6"
      },
      "source": [
        "Para este Reto vamos a utilizar el dataset 'wine_quality_red-clean.csv'. Este dataset tiene muchas variables numéricas. Realiza los procesos que se enumeran a continuación. Explica paso a paso tu proceso para que puedas presentarlo a los demás.\n",
        "\n",
        "1. Explora las correlaciones que existen entre estas variables.\n",
        "2. Elige dos o más variables independientes y una variable dependiente.\n",
        "3. Explora las variables que elegiste para asegurarte de que estén limpias y de que no haya valores atípicos que puedan arruinar el modelo.\n",
        "4. Separa tus datos en dataset de entrenamiento y prueba usando `scikit-learn`.\n",
        "5. Entrena un modelo de Regresión Lineal Múltiple con tu dataset de entrenamiento.\n",
        "6. Evalúa tu modelo usando el dataset de prueba.\n",
        "7. Si crees que una combinación de variables pueda obtener mejor resultado, repite y el proceso.\n",
        "8. Presenta tus hallazgos a tus compañeros."
      ]
    },
    {
      "cell_type": "markdown",
      "metadata": {
        "id": "hdUycShJXVYP"
      },
      "source": [
        "#REGRESIÓN LINEAL SIMPLE\n",
        "Realizaremos una regresión lineal para algunas variables del dataset que contiene datos de mujeres con o sin diabetes  de la comunidad indigena Pima. \n",
        "\n",
        "Más información sobre el dataset en: \n",
        "https://www.kaggle.com/uciml/pima-indians-diabetes-database"
      ]
    },
    {
      "cell_type": "code",
      "metadata": {
        "id": "v6qhqZccRzc7"
      },
      "source": [
        "import pandas as pd \n",
        "import matplotlib.pyplot as plt \n",
        "import seaborn as sns\n",
        "  "
      ],
      "execution_count": 3,
      "outputs": []
    },
    {
      "cell_type": "code",
      "metadata": {
        "id": "efxnrVyXR-6F",
        "colab": {
          "base_uri": "https://localhost:8080/"
        },
        "outputId": "9d7dcb44-51d3-4be1-8ecd-4b1a613bb187"
      },
      "source": [
        "from google.colab import drive\n",
        "drive.mount('/content/drive')"
      ],
      "execution_count": 2,
      "outputs": [
        {
          "output_type": "stream",
          "name": "stdout",
          "text": [
            "Mounted at /content/drive\n"
          ]
        }
      ]
    },
    {
      "cell_type": "code",
      "metadata": {
        "id": "nMvm97-UR9yV",
        "colab": {
          "base_uri": "https://localhost:8080/",
          "height": 204
        },
        "outputId": "2ba70805-e165-4bb3-b716-dbbaa34b0d64"
      },
      "source": [
        "df=pd.read_csv(\"/content/drive/MyDrive/BEDU_DS/FASE_3/Remoto Datasets/Remoto wine_quality_red-clean.csv\", index_col=0)\n",
        "df.head()"
      ],
      "execution_count": 4,
      "outputs": [
        {
          "output_type": "execute_result",
          "data": {
            "text/html": [
              "<div>\n",
              "<style scoped>\n",
              "    .dataframe tbody tr th:only-of-type {\n",
              "        vertical-align: middle;\n",
              "    }\n",
              "\n",
              "    .dataframe tbody tr th {\n",
              "        vertical-align: top;\n",
              "    }\n",
              "\n",
              "    .dataframe thead th {\n",
              "        text-align: right;\n",
              "    }\n",
              "</style>\n",
              "<table border=\"1\" class=\"dataframe\">\n",
              "  <thead>\n",
              "    <tr style=\"text-align: right;\">\n",
              "      <th></th>\n",
              "      <th>fixed_acidity</th>\n",
              "      <th>volatile_acidity</th>\n",
              "      <th>citric_acid</th>\n",
              "      <th>residual_sugar</th>\n",
              "      <th>chlorides</th>\n",
              "      <th>free_sulfur_dioxide</th>\n",
              "      <th>total_sulfur_dioxide</th>\n",
              "      <th>density</th>\n",
              "      <th>pH</th>\n",
              "      <th>sulphates</th>\n",
              "      <th>alcohol</th>\n",
              "      <th>quality</th>\n",
              "    </tr>\n",
              "  </thead>\n",
              "  <tbody>\n",
              "    <tr>\n",
              "      <th>0</th>\n",
              "      <td>7.4</td>\n",
              "      <td>0.70</td>\n",
              "      <td>0.00</td>\n",
              "      <td>1.9</td>\n",
              "      <td>0.076</td>\n",
              "      <td>11.0</td>\n",
              "      <td>34.0</td>\n",
              "      <td>0.9978</td>\n",
              "      <td>3.51</td>\n",
              "      <td>0.56</td>\n",
              "      <td>9.4</td>\n",
              "      <td>5</td>\n",
              "    </tr>\n",
              "    <tr>\n",
              "      <th>1</th>\n",
              "      <td>7.8</td>\n",
              "      <td>0.88</td>\n",
              "      <td>0.00</td>\n",
              "      <td>2.6</td>\n",
              "      <td>0.098</td>\n",
              "      <td>25.0</td>\n",
              "      <td>67.0</td>\n",
              "      <td>0.9968</td>\n",
              "      <td>3.20</td>\n",
              "      <td>0.68</td>\n",
              "      <td>9.8</td>\n",
              "      <td>5</td>\n",
              "    </tr>\n",
              "    <tr>\n",
              "      <th>2</th>\n",
              "      <td>7.8</td>\n",
              "      <td>0.76</td>\n",
              "      <td>0.04</td>\n",
              "      <td>2.3</td>\n",
              "      <td>0.092</td>\n",
              "      <td>15.0</td>\n",
              "      <td>54.0</td>\n",
              "      <td>0.9970</td>\n",
              "      <td>3.26</td>\n",
              "      <td>0.65</td>\n",
              "      <td>9.8</td>\n",
              "      <td>5</td>\n",
              "    </tr>\n",
              "    <tr>\n",
              "      <th>3</th>\n",
              "      <td>11.2</td>\n",
              "      <td>0.28</td>\n",
              "      <td>0.56</td>\n",
              "      <td>1.9</td>\n",
              "      <td>0.075</td>\n",
              "      <td>17.0</td>\n",
              "      <td>60.0</td>\n",
              "      <td>0.9980</td>\n",
              "      <td>3.16</td>\n",
              "      <td>0.58</td>\n",
              "      <td>9.8</td>\n",
              "      <td>6</td>\n",
              "    </tr>\n",
              "    <tr>\n",
              "      <th>4</th>\n",
              "      <td>7.4</td>\n",
              "      <td>0.70</td>\n",
              "      <td>0.00</td>\n",
              "      <td>1.9</td>\n",
              "      <td>0.076</td>\n",
              "      <td>11.0</td>\n",
              "      <td>34.0</td>\n",
              "      <td>0.9978</td>\n",
              "      <td>3.51</td>\n",
              "      <td>0.56</td>\n",
              "      <td>9.4</td>\n",
              "      <td>5</td>\n",
              "    </tr>\n",
              "  </tbody>\n",
              "</table>\n",
              "</div>"
            ],
            "text/plain": [
              "   fixed_acidity  volatile_acidity  citric_acid  ...  sulphates  alcohol  quality\n",
              "0            7.4              0.70         0.00  ...       0.56      9.4        5\n",
              "1            7.8              0.88         0.00  ...       0.68      9.8        5\n",
              "2            7.8              0.76         0.04  ...       0.65      9.8        5\n",
              "3           11.2              0.28         0.56  ...       0.58      9.8        6\n",
              "4            7.4              0.70         0.00  ...       0.56      9.4        5\n",
              "\n",
              "[5 rows x 12 columns]"
            ]
          },
          "metadata": {},
          "execution_count": 4
        }
      ]
    },
    {
      "cell_type": "markdown",
      "metadata": {
        "id": "4mNgKmzUXZou"
      },
      "source": [
        "##Buscamos correlaciones entre nuestras variables. \n",
        "Para ello hacemos uso de un heatmap de la matriz de correlaciones."
      ]
    },
    {
      "cell_type": "code",
      "metadata": {
        "id": "sc56DGo7S1dy",
        "colab": {
          "base_uri": "https://localhost:8080/",
          "height": 537
        },
        "outputId": "e1880f85-9318-48e4-a006-56ac94ea3707"
      },
      "source": [
        "plt.figure(figsize=(9, 7))\n",
        "sns.heatmap(df.corr(),vmin=-1, vmax=1, annot=True, cmap=\"YlGnBu\", linewidths=.5)"
      ],
      "execution_count": 5,
      "outputs": [
        {
          "output_type": "execute_result",
          "data": {
            "text/plain": [
              "<matplotlib.axes._subplots.AxesSubplot at 0x7f350c4fb590>"
            ]
          },
          "metadata": {},
          "execution_count": 5
        },
        {
          "output_type": "display_data",
          "data": {
            "image/png": "[encoded data removed]",
            "text/plain": [
              "<Figure size 648x504 with 2 Axes>"
            ]
          },
          "metadata": {
            "needs_background": "light"
          }
        }
      ]
    },
    {
      "cell_type": "code",
      "metadata": {
        "id": "dEsBThf3ViOn",
        "colab": {
          "base_uri": "https://localhost:8080/",
          "height": 297
        },
        "outputId": "f4a5aa8a-23f9-4d3f-8779-6232d9ac1b77"
      },
      "source": [
        "df.describe()"
      ],
      "execution_count": 6,
      "outputs": [
        {
          "output_type": "execute_result",
          "data": {
            "text/html": [
              "<div>\n",
              "<style scoped>\n",
              "    .dataframe tbody tr th:only-of-type {\n",
              "        vertical-align: middle;\n",
              "    }\n",
              "\n",
              "    .dataframe tbody tr th {\n",
              "        vertical-align: top;\n",
              "    }\n",
              "\n",
              "    .dataframe thead th {\n",
              "        text-align: right;\n",
              "    }\n",
              "</style>\n",
              "<table border=\"1\" class=\"dataframe\">\n",
              "  <thead>\n",
              "    <tr style=\"text-align: right;\">\n",
              "      <th></th>\n",
              "      <th>fixed_acidity</th>\n",
              "      <th>volatile_acidity</th>\n",
              "      <th>citric_acid</th>\n",
              "      <th>residual_sugar</th>\n",
              "      <th>chlorides</th>\n",
              "      <th>free_sulfur_dioxide</th>\n",
              "      <th>total_sulfur_dioxide</th>\n",
              "      <th>density</th>\n",
              "      <th>pH</th>\n",
              "      <th>sulphates</th>\n",
              "      <th>alcohol</th>\n",
              "      <th>quality</th>\n",
              "    </tr>\n",
              "  </thead>\n",
              "  <tbody>\n",
              "    <tr>\n",
              "      <th>count</th>\n",
              "      <td>1599.000000</td>\n",
              "      <td>1599.000000</td>\n",
              "      <td>1599.000000</td>\n",
              "      <td>1599.000000</td>\n",
              "      <td>1599.000000</td>\n",
              "      <td>1599.000000</td>\n",
              "      <td>1599.000000</td>\n",
              "      <td>1599.000000</td>\n",
              "      <td>1599.000000</td>\n",
              "      <td>1599.000000</td>\n",
              "      <td>1599.000000</td>\n",
              "      <td>1599.000000</td>\n",
              "    </tr>\n",
              "    <tr>\n",
              "      <th>mean</th>\n",
              "      <td>8.319637</td>\n",
              "      <td>0.527821</td>\n",
              "      <td>0.270976</td>\n",
              "      <td>2.538806</td>\n",
              "      <td>0.087467</td>\n",
              "      <td>15.874922</td>\n",
              "      <td>46.467792</td>\n",
              "      <td>0.996747</td>\n",
              "      <td>3.311113</td>\n",
              "      <td>0.658149</td>\n",
              "      <td>10.422983</td>\n",
              "      <td>5.636023</td>\n",
              "    </tr>\n",
              "    <tr>\n",
              "      <th>std</th>\n",
              "      <td>1.741096</td>\n",
              "      <td>0.179060</td>\n",
              "      <td>0.194801</td>\n",
              "      <td>1.409928</td>\n",
              "      <td>0.047065</td>\n",
              "      <td>10.460157</td>\n",
              "      <td>32.895324</td>\n",
              "      <td>0.001887</td>\n",
              "      <td>0.154386</td>\n",
              "      <td>0.169507</td>\n",
              "      <td>1.065668</td>\n",
              "      <td>0.807569</td>\n",
              "    </tr>\n",
              "    <tr>\n",
              "      <th>min</th>\n",
              "      <td>4.600000</td>\n",
              "      <td>0.120000</td>\n",
              "      <td>0.000000</td>\n",
              "      <td>0.900000</td>\n",
              "      <td>0.012000</td>\n",
              "      <td>1.000000</td>\n",
              "      <td>6.000000</td>\n",
              "      <td>0.990070</td>\n",
              "      <td>2.740000</td>\n",
              "      <td>0.330000</td>\n",
              "      <td>8.400000</td>\n",
              "      <td>3.000000</td>\n",
              "    </tr>\n",
              "    <tr>\n",
              "      <th>25%</th>\n",
              "      <td>7.100000</td>\n",
              "      <td>0.390000</td>\n",
              "      <td>0.090000</td>\n",
              "      <td>1.900000</td>\n",
              "      <td>0.070000</td>\n",
              "      <td>7.000000</td>\n",
              "      <td>22.000000</td>\n",
              "      <td>0.995600</td>\n",
              "      <td>3.210000</td>\n",
              "      <td>0.550000</td>\n",
              "      <td>9.500000</td>\n",
              "      <td>5.000000</td>\n",
              "    </tr>\n",
              "    <tr>\n",
              "      <th>50%</th>\n",
              "      <td>7.900000</td>\n",
              "      <td>0.520000</td>\n",
              "      <td>0.260000</td>\n",
              "      <td>2.200000</td>\n",
              "      <td>0.079000</td>\n",
              "      <td>14.000000</td>\n",
              "      <td>38.000000</td>\n",
              "      <td>0.996750</td>\n",
              "      <td>3.310000</td>\n",
              "      <td>0.620000</td>\n",
              "      <td>10.200000</td>\n",
              "      <td>6.000000</td>\n",
              "    </tr>\n",
              "    <tr>\n",
              "      <th>75%</th>\n",
              "      <td>9.200000</td>\n",
              "      <td>0.640000</td>\n",
              "      <td>0.420000</td>\n",
              "      <td>2.600000</td>\n",
              "      <td>0.090000</td>\n",
              "      <td>21.000000</td>\n",
              "      <td>62.000000</td>\n",
              "      <td>0.997835</td>\n",
              "      <td>3.400000</td>\n",
              "      <td>0.730000</td>\n",
              "      <td>11.100000</td>\n",
              "      <td>6.000000</td>\n",
              "    </tr>\n",
              "    <tr>\n",
              "      <th>max</th>\n",
              "      <td>15.900000</td>\n",
              "      <td>1.580000</td>\n",
              "      <td>1.000000</td>\n",
              "      <td>15.500000</td>\n",
              "      <td>0.611000</td>\n",
              "      <td>72.000000</td>\n",
              "      <td>289.000000</td>\n",
              "      <td>1.003690</td>\n",
              "      <td>4.010000</td>\n",
              "      <td>2.000000</td>\n",
              "      <td>14.900000</td>\n",
              "      <td>8.000000</td>\n",
              "    </tr>\n",
              "  </tbody>\n",
              "</table>\n",
              "</div>"
            ],
            "text/plain": [
              "       fixed_acidity  volatile_acidity  ...      alcohol      quality\n",
              "count    1599.000000       1599.000000  ...  1599.000000  1599.000000\n",
              "mean        8.319637          0.527821  ...    10.422983     5.636023\n",
              "std         1.741096          0.179060  ...     1.065668     0.807569\n",
              "min         4.600000          0.120000  ...     8.400000     3.000000\n",
              "25%         7.100000          0.390000  ...     9.500000     5.000000\n",
              "50%         7.900000          0.520000  ...    10.200000     6.000000\n",
              "75%         9.200000          0.640000  ...    11.100000     6.000000\n",
              "max        15.900000          1.580000  ...    14.900000     8.000000\n",
              "\n",
              "[8 rows x 12 columns]"
            ]
          },
          "metadata": {},
          "execution_count": 6
        }
      ]
    },
    {
      "cell_type": "markdown",
      "metadata": {
        "id": "z3fyehHypLZ6"
      },
      "source": [
        "Importamos las funciones para dividir nuestros datos en una muestra para entrenar el modelo lineal y otra para hacer la prueba.\n"
      ]
    },
    {
      "cell_type": "markdown",
      "metadata": {
        "id": "_9MC5S5-ZdWm"
      },
      "source": [
        "##Implementación del modelo lineal"
      ]
    },
    {
      "cell_type": "code",
      "metadata": {
        "id": "ZZ0rQsQrR9v3"
      },
      "source": [
        "from sklearn.model_selection import train_test_split\n",
        "from sklearn.linear_model import LinearRegression"
      ],
      "execution_count": 7,
      "outputs": []
    },
    {
      "cell_type": "markdown",
      "metadata": {
        "id": "mhuNNRDMpL5q"
      },
      "source": [
        "Definimos nuestras variables independientes y la variable dependiente en base de la correlación existente."
      ]
    },
    {
      "cell_type": "code",
      "metadata": {
        "id": "gVoejGmeR9ta"
      },
      "source": [
        "x=df[[\"fixed_acidity\", \"citric_acid\"]]\n",
        "y=df[\"pH\"]"
      ],
      "execution_count": 8,
      "outputs": []
    },
    {
      "cell_type": "markdown",
      "metadata": {
        "id": "tet0e4vKpVLu"
      },
      "source": [
        "Dividimos nuestros datos en una muestra para entrenar y otra muestra para hacer la prueba."
      ]
    },
    {
      "cell_type": "code",
      "metadata": {
        "id": "g2KcUAdGR9qy",
        "colab": {
          "base_uri": "https://localhost:8080/"
        },
        "outputId": "293043ba-2b08-4c1c-962f-7cddb8e6e897"
      },
      "source": [
        "X_training, X_test, y_training, y_test = train_test_split(x, y, test_size=0.3, shuffle=True)\n",
        "lr=LinearRegression()\n",
        "lr.fit(X_training, y_training)"
      ],
      "execution_count": 9,
      "outputs": [
        {
          "output_type": "execute_result",
          "data": {
            "text/plain": [
              "LinearRegression(copy_X=True, fit_intercept=True, n_jobs=None, normalize=False)"
            ]
          },
          "metadata": {},
          "execution_count": 9
        }
      ]
    },
    {
      "cell_type": "markdown",
      "metadata": {
        "id": "RW6-TA9lZo1s"
      },
      "source": [
        "##score"
      ]
    },
    {
      "cell_type": "markdown",
      "metadata": {
        "id": "nsJABiqwpfkk"
      },
      "source": [
        "Calculamos el score"
      ]
    },
    {
      "cell_type": "code",
      "metadata": {
        "id": "mJgzYaHuSXPl",
        "colab": {
          "base_uri": "https://localhost:8080/"
        },
        "outputId": "5a25334c-1610-4685-e4aa-44f5ddd417ff"
      },
      "source": [
        "lr.score(X_test, y_test)"
      ],
      "execution_count": 10,
      "outputs": [
        {
          "output_type": "execute_result",
          "data": {
            "text/plain": [
              "0.47424812108712083"
            ]
          },
          "metadata": {},
          "execution_count": 10
        }
      ]
    },
    {
      "cell_type": "code",
      "metadata": {
        "id": "ni5JuLPsSXNY",
        "colab": {
          "base_uri": "https://localhost:8080/"
        },
        "outputId": "f999bb32-e9ae-4bfb-f7c8-0af8ceb5d578"
      },
      "source": [
        "lr.score(x, y)"
      ],
      "execution_count": 11,
      "outputs": [
        {
          "output_type": "execute_result",
          "data": {
            "text/plain": [
              "0.47764911118693226"
            ]
          },
          "metadata": {},
          "execution_count": 11
        }
      ]
    },
    {
      "cell_type": "markdown",
      "metadata": {
        "id": "Vk38pViVWmlb"
      },
      "source": [
        "## Eliminar valores atipicos"
      ]
    },
    {
      "cell_type": "markdown",
      "metadata": {
        "id": "B-rH2mgMXoD7"
      },
      "source": [
        "Primero notemos que la variable fixed acidity tiene varios valores atipicos, por lo que podemos aplicarle un filtro y quedarnos con los valores más representativos."
      ]
    },
    {
      "cell_type": "code",
      "metadata": {
        "id": "BafKw-5TVit2",
        "colab": {
          "base_uri": "https://localhost:8080/",
          "height": 351
        },
        "outputId": "336592d7-3b21-4420-9466-c240e41c0ca3"
      },
      "source": [
        "sns.boxplot(df[\"fixed_acidity\"])"
      ],
      "execution_count": 12,
      "outputs": [
        {
          "output_type": "stream",
          "name": "stderr",
          "text": [
            "/usr/local/lib/python3.7/dist-packages/seaborn/_decorators.py:43: FutureWarning: Pass the following variable as a keyword arg: x. From version 0.12, the only valid positional argument will be `data`, and passing other arguments without an explicit keyword will result in an error or misinterpretation.\n",
            "  FutureWarning\n"
          ]
        },
        {
          "output_type": "execute_result",
          "data": {
            "text/plain": [
              "<matplotlib.axes._subplots.AxesSubplot at 0x7f34e868a4d0>"
            ]
          },
          "metadata": {},
          "execution_count": 12
        },
        {
          "output_type": "display_data",
          "data": {
            "image/png": "[encoded data removed]",
            "text/plain": [
              "<Figure size 432x288 with 1 Axes>"
            ]
          },
          "metadata": {
            "needs_background": "light"
          }
        }
      ]
    },
    {
      "cell_type": "code",
      "metadata": {
        "id": "gglA4BZdWNNS"
      },
      "source": [
        "iqr = df['fixed_acidity'].quantile(0.75) - df['fixed_acidity'].quantile(0.25) \n",
        "filtro_inferior = df['fixed_acidity'] > df['fixed_acidity'].quantile(0.25) - (iqr * 1.5) \n",
        "filtro_superior = df['fixed_acidity'] < df['fixed_acidity'].quantile(0.75) + (iqr * 1.5)\n",
        "df_filtrado = df[filtro_inferior & filtro_superior]\n"
      ],
      "execution_count": 13,
      "outputs": []
    },
    {
      "cell_type": "markdown",
      "metadata": {
        "id": "noCHXuWPX9aM"
      },
      "source": [
        "De igual forma limpiamos la variable pH "
      ]
    },
    {
      "cell_type": "code",
      "metadata": {
        "id": "M3xAyFlAao1j"
      },
      "source": [
        "iqr = df_filtrado['pH'].quantile(0.75) - df_filtrado['pH'].quantile(0.25) \n",
        "filtro_inferior = df_filtrado['pH'] > df_filtrado['pH'].quantile(0.25) - (iqr * 1.5) \n",
        "filtro_superior = df_filtrado['pH'] < df_filtrado['pH'].quantile(0.75) + (iqr * 1.5)\n",
        "df_filtrado = df_filtrado[filtro_inferior & filtro_superior]"
      ],
      "execution_count": 14,
      "outputs": []
    },
    {
      "cell_type": "code",
      "metadata": {
        "id": "gPNLlY5mZCt3",
        "colab": {
          "base_uri": "https://localhost:8080/",
          "height": 350
        },
        "outputId": "42af6eec-b31b-4ca4-84e5-5eccb896f73e"
      },
      "source": [
        "sns.boxplot(df_filtrado[\"pH\"])"
      ],
      "execution_count": 15,
      "outputs": [
        {
          "output_type": "stream",
          "name": "stderr",
          "text": [
            "/usr/local/lib/python3.7/dist-packages/seaborn/_decorators.py:43: FutureWarning: Pass the following variable as a keyword arg: x. From version 0.12, the only valid positional argument will be `data`, and passing other arguments without an explicit keyword will result in an error or misinterpretation.\n",
            "  FutureWarning\n"
          ]
        },
        {
          "output_type": "execute_result",
          "data": {
            "text/plain": [
              "<matplotlib.axes._subplots.AxesSubplot at 0x7f34e83cd3d0>"
            ]
          },
          "metadata": {},
          "execution_count": 15
        },
        {
          "output_type": "display_data",
          "data": {
            "image/png": "[encoded data removed]",
            "text/plain": [
              "<Figure size 432x288 with 1 Axes>"
            ]
          },
          "metadata": {
            "needs_background": "light"
          }
        }
      ]
    },
    {
      "cell_type": "markdown",
      "metadata": {
        "id": "En8qQhCmYXLV"
      },
      "source": [
        "Veamos cuantos valores hemos eliminado, nuestro dataset original tenía 1599 registros, ahora tenemos 1505, lo cual no es mucha diferencia y tenemos la ventaja de que ahora nuestros registros son mas representativos."
      ]
    },
    {
      "cell_type": "code",
      "metadata": {
        "id": "66uA53PRSXK_",
        "colab": {
          "base_uri": "https://localhost:8080/",
          "height": 297
        },
        "outputId": "b3d3fb0b-f51a-40c0-8770-12b262524dc7"
      },
      "source": [
        "df_filtrado.describe()"
      ],
      "execution_count": 16,
      "outputs": [
        {
          "output_type": "execute_result",
          "data": {
            "text/html": [
              "<div>\n",
              "<style scoped>\n",
              "    .dataframe tbody tr th:only-of-type {\n",
              "        vertical-align: middle;\n",
              "    }\n",
              "\n",
              "    .dataframe tbody tr th {\n",
              "        vertical-align: top;\n",
              "    }\n",
              "\n",
              "    .dataframe thead th {\n",
              "        text-align: right;\n",
              "    }\n",
              "</style>\n",
              "<table border=\"1\" class=\"dataframe\">\n",
              "  <thead>\n",
              "    <tr style=\"text-align: right;\">\n",
              "      <th></th>\n",
              "      <th>fixed_acidity</th>\n",
              "      <th>volatile_acidity</th>\n",
              "      <th>citric_acid</th>\n",
              "      <th>residual_sugar</th>\n",
              "      <th>chlorides</th>\n",
              "      <th>free_sulfur_dioxide</th>\n",
              "      <th>total_sulfur_dioxide</th>\n",
              "      <th>density</th>\n",
              "      <th>pH</th>\n",
              "      <th>sulphates</th>\n",
              "      <th>alcohol</th>\n",
              "      <th>quality</th>\n",
              "    </tr>\n",
              "  </thead>\n",
              "  <tbody>\n",
              "    <tr>\n",
              "      <th>count</th>\n",
              "      <td>1505.000000</td>\n",
              "      <td>1505.000000</td>\n",
              "      <td>1505.000000</td>\n",
              "      <td>1505.000000</td>\n",
              "      <td>1505.000000</td>\n",
              "      <td>1505.000000</td>\n",
              "      <td>1505.000000</td>\n",
              "      <td>1505.000000</td>\n",
              "      <td>1505.000000</td>\n",
              "      <td>1505.000000</td>\n",
              "      <td>1505.000000</td>\n",
              "      <td>1505.000000</td>\n",
              "    </tr>\n",
              "    <tr>\n",
              "      <th>mean</th>\n",
              "      <td>8.197409</td>\n",
              "      <td>0.529701</td>\n",
              "      <td>0.263542</td>\n",
              "      <td>2.535282</td>\n",
              "      <td>0.087458</td>\n",
              "      <td>15.988040</td>\n",
              "      <td>46.459801</td>\n",
              "      <td>0.996676</td>\n",
              "      <td>3.314724</td>\n",
              "      <td>0.650638</td>\n",
              "      <td>10.393056</td>\n",
              "      <td>5.625249</td>\n",
              "    </tr>\n",
              "    <tr>\n",
              "      <th>std</th>\n",
              "      <td>1.477153</td>\n",
              "      <td>0.179537</td>\n",
              "      <td>0.187651</td>\n",
              "      <td>1.425299</td>\n",
              "      <td>0.045507</td>\n",
              "      <td>10.535205</td>\n",
              "      <td>33.054610</td>\n",
              "      <td>0.001727</td>\n",
              "      <td>0.132720</td>\n",
              "      <td>0.153010</td>\n",
              "      <td>1.027027</td>\n",
              "      <td>0.804178</td>\n",
              "    </tr>\n",
              "    <tr>\n",
              "      <th>min</th>\n",
              "      <td>5.000000</td>\n",
              "      <td>0.120000</td>\n",
              "      <td>0.000000</td>\n",
              "      <td>1.200000</td>\n",
              "      <td>0.012000</td>\n",
              "      <td>1.000000</td>\n",
              "      <td>6.000000</td>\n",
              "      <td>0.990200</td>\n",
              "      <td>2.980000</td>\n",
              "      <td>0.330000</td>\n",
              "      <td>8.400000</td>\n",
              "      <td>3.000000</td>\n",
              "    </tr>\n",
              "    <tr>\n",
              "      <th>25%</th>\n",
              "      <td>7.100000</td>\n",
              "      <td>0.390000</td>\n",
              "      <td>0.090000</td>\n",
              "      <td>1.900000</td>\n",
              "      <td>0.070000</td>\n",
              "      <td>7.000000</td>\n",
              "      <td>22.000000</td>\n",
              "      <td>0.995600</td>\n",
              "      <td>3.220000</td>\n",
              "      <td>0.550000</td>\n",
              "      <td>9.500000</td>\n",
              "      <td>5.000000</td>\n",
              "    </tr>\n",
              "    <tr>\n",
              "      <th>50%</th>\n",
              "      <td>7.900000</td>\n",
              "      <td>0.520000</td>\n",
              "      <td>0.250000</td>\n",
              "      <td>2.200000</td>\n",
              "      <td>0.079000</td>\n",
              "      <td>14.000000</td>\n",
              "      <td>38.000000</td>\n",
              "      <td>0.996700</td>\n",
              "      <td>3.310000</td>\n",
              "      <td>0.620000</td>\n",
              "      <td>10.100000</td>\n",
              "      <td>6.000000</td>\n",
              "    </tr>\n",
              "    <tr>\n",
              "      <th>75%</th>\n",
              "      <td>9.100000</td>\n",
              "      <td>0.640000</td>\n",
              "      <td>0.410000</td>\n",
              "      <td>2.600000</td>\n",
              "      <td>0.090000</td>\n",
              "      <td>22.000000</td>\n",
              "      <td>62.000000</td>\n",
              "      <td>0.997740</td>\n",
              "      <td>3.400000</td>\n",
              "      <td>0.720000</td>\n",
              "      <td>11.000000</td>\n",
              "      <td>6.000000</td>\n",
              "    </tr>\n",
              "    <tr>\n",
              "      <th>max</th>\n",
              "      <td>12.300000</td>\n",
              "      <td>1.580000</td>\n",
              "      <td>0.780000</td>\n",
              "      <td>15.500000</td>\n",
              "      <td>0.611000</td>\n",
              "      <td>72.000000</td>\n",
              "      <td>289.000000</td>\n",
              "      <td>1.003690</td>\n",
              "      <td>3.660000</td>\n",
              "      <td>1.610000</td>\n",
              "      <td>14.000000</td>\n",
              "      <td>8.000000</td>\n",
              "    </tr>\n",
              "  </tbody>\n",
              "</table>\n",
              "</div>"
            ],
            "text/plain": [
              "       fixed_acidity  volatile_acidity  ...      alcohol      quality\n",
              "count    1505.000000       1505.000000  ...  1505.000000  1505.000000\n",
              "mean        8.197409          0.529701  ...    10.393056     5.625249\n",
              "std         1.477153          0.179537  ...     1.027027     0.804178\n",
              "min         5.000000          0.120000  ...     8.400000     3.000000\n",
              "25%         7.100000          0.390000  ...     9.500000     5.000000\n",
              "50%         7.900000          0.520000  ...    10.100000     6.000000\n",
              "75%         9.100000          0.640000  ...    11.000000     6.000000\n",
              "max        12.300000          1.580000  ...    14.000000     8.000000\n",
              "\n",
              "[8 rows x 12 columns]"
            ]
          },
          "metadata": {},
          "execution_count": 16
        }
      ]
    },
    {
      "cell_type": "markdown",
      "metadata": {
        "id": "sW0uBjV2Z5xf"
      },
      "source": [
        "##Implementación del modelo lineal a las variables filtradas"
      ]
    },
    {
      "cell_type": "markdown",
      "metadata": {
        "id": "3fqjaLK0Y7OE"
      },
      "source": [
        "Ahora realizamos la regresion lineal para nuestras variables ya filtradas."
      ]
    },
    {
      "cell_type": "code",
      "metadata": {
        "id": "vgD8lvp5SXIr",
        "colab": {
          "base_uri": "https://localhost:8080/"
        },
        "outputId": "e4ded860-8a79-40f7-dc74-23fe3fb5ed36"
      },
      "source": [
        "x_1=df_filtrado[[\"fixed_acidity\", \"citric_acid\"]]\n",
        "y_1=df_filtrado[\"pH\"]\n",
        "X_training2, X_test2, y_training2, y_test2 = train_test_split(x_1, y_1, test_size=0.3, shuffle=True)\n",
        "lr=LinearRegression()\n",
        "lr.fit(X_training2, y_training2)"
      ],
      "execution_count": 17,
      "outputs": [
        {
          "output_type": "execute_result",
          "data": {
            "text/plain": [
              "LinearRegression(copy_X=True, fit_intercept=True, n_jobs=None, normalize=False)"
            ]
          },
          "metadata": {},
          "execution_count": 17
        }
      ]
    },
    {
      "cell_type": "code",
      "metadata": {
        "id": "AFNk95hvSXGb",
        "colab": {
          "base_uri": "https://localhost:8080/"
        },
        "outputId": "d2099bfa-4c52-4356-f8e0-5fd490916b54"
      },
      "source": [
        "lr.score(X_test2, y_test2)"
      ],
      "execution_count": 18,
      "outputs": [
        {
          "output_type": "execute_result",
          "data": {
            "text/plain": [
              "0.4532112701759985"
            ]
          },
          "metadata": {},
          "execution_count": 18
        }
      ]
    },
    {
      "cell_type": "markdown",
      "metadata": {
        "id": "kBRdfDanfWd7"
      },
      "source": [
        "##Validación cruzada "
      ]
    },
    {
      "cell_type": "code",
      "metadata": {
        "id": "nELw1ADpfbEr"
      },
      "source": [
        "from sklearn.model_selection import cross_validate"
      ],
      "execution_count": 19,
      "outputs": []
    },
    {
      "cell_type": "code",
      "metadata": {
        "id": "xeahehI_fWJU"
      },
      "source": [
        "scores=cross_validate(lr,x,y,scoring=\"r2\")"
      ],
      "execution_count": 20,
      "outputs": []
    },
    {
      "cell_type": "code",
      "metadata": {
        "id": "HSeqLVMGfWHE",
        "colab": {
          "base_uri": "https://localhost:8080/"
        },
        "outputId": "85bc0be5-8251-46b9-a965-2d21a4570ece"
      },
      "source": [
        "scores  "
      ],
      "execution_count": 21,
      "outputs": [
        {
          "output_type": "execute_result",
          "data": {
            "text/plain": [
              "{'fit_time': array([0.00386214, 0.00266004, 0.00148106, 0.00149703, 0.00140405]),\n",
              " 'score_time': array([0.00164557, 0.00093079, 0.00088954, 0.00084162, 0.00084853]),\n",
              " 'test_score': array([0.37130828, 0.4277382 , 0.45236338, 0.40719942, 0.42158427])}"
            ]
          },
          "metadata": {},
          "execution_count": 21
        }
      ]
    },
    {
      "cell_type": "code",
      "metadata": {
        "id": "XjVnf06nfWEe",
        "colab": {
          "base_uri": "https://localhost:8080/"
        },
        "outputId": "6822d3ef-7fa3-4c7e-acc7-c3c0a8a464a6"
      },
      "source": [
        "scores[\"test_score\"]"
      ],
      "execution_count": 22,
      "outputs": [
        {
          "output_type": "execute_result",
          "data": {
            "text/plain": [
              "array([0.37130828, 0.4277382 , 0.45236338, 0.40719942, 0.42158427])"
            ]
          },
          "metadata": {},
          "execution_count": 22
        }
      ]
    }
  ]
}