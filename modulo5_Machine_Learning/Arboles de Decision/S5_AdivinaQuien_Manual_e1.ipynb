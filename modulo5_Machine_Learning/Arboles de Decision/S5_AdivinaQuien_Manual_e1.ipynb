{
  "nbformat": 4,
  "nbformat_minor": 0,
  "metadata": {
    "kernelspec": {
      "display_name": "Python 3",
      "language": "python",
      "name": "python3"
    },
    "language_info": {
      "codemirror_mode": {
        "name": "ipython",
        "version": 3
      },
      "file_extension": ".py",
      "mimetype": "text/x-python",
      "name": "python",
      "nbconvert_exporter": "python",
      "pygments_lexer": "ipython3",
      "version": "3.6.2"
    },
    "colab": {
      "name": "S5_AdivinaQuien_Manual_e1.ipynb",
      "provenance": [],
      "collapsed_sections": [],
      "include_colab_link": true
    }
  },
  "cells": [
    {
      "cell_type": "markdown",
      "metadata": {
        "id": "view-in-github",
        "colab_type": "text"
      },
      "source": [
        "<a href=\"https://colab.research.google.com/github/LazaroR-u/BEDU_data_science/blob/main/modulo5_Machine_Learning/Arboles%20de%20Decision/S5_AdivinaQuien_Manual_e1.ipynb\" target=\"_parent\"><img src=\"https://colab.research.google.com/assets/colab-badge.svg\" alt=\"Open In Colab\"/></a>"
      ]
    },
    {
      "cell_type": "markdown",
      "metadata": {
        "id": "IRrzUZlj4Lzh"
      },
      "source": [
        "# Ejemplo 01:\n",
        "**_Dr. Antonio Arista Jalife_**\n",
        "\n",
        "En este ejemplo vamos a construir **manualmente** un árbol de decisión para simular un juego de Adivina quién. Lo primero que haremos será importar las librerías que vamos a llegar a necesitar: "
      ]
    },
    {
      "cell_type": "code",
      "metadata": {
        "collapsed": true,
        "id": "9oN_FNxQ4Lzj"
      },
      "source": [
        "import numpy as np "
      ],
      "execution_count": null,
      "outputs": []
    },
    {
      "cell_type": "markdown",
      "metadata": {
        "id": "AGQUUuh_4Lzk"
      },
      "source": [
        "El siguiente paso es tomar todos los nombres de las personas, y asignarle a cada uno sus características. Digamos, para los nombres del adivina quien:"
      ]
    },
    {
      "cell_type": "code",
      "metadata": {
        "collapsed": true,
        "id": "SQYy3VyA4Lzk"
      },
      "source": [
        "#Para las salidas, utilizaremos la variable Y\n",
        "y = [\"Antonio\", \"Elly\", \"Patricia\", \"María\", \"Juana\", \"José\", \"Luis\"]"
      ],
      "execution_count": null,
      "outputs": []
    },
    {
      "cell_type": "markdown",
      "metadata": {
        "id": "JcZGL0BE4Lzl"
      },
      "source": [
        "Y para cada nombre, le vamos a poner características a cada uno en una tabla (matriz): \n",
        "1 = Tiene esa característica\n",
        "0 = No tiene esa característica\n",
        "\n",
        "Cada columna es una característica: \n",
        "\n",
        "Cabello largo | Usa lentes | Usa sombrero | Es mujer | Tiene bigote | Tiene ojos claros"
      ]
    },
    {
      "cell_type": "code",
      "metadata": {
        "collapsed": true,
        "id": "o5DzcoGl4Lzl"
      },
      "source": [
        "#Características: \n",
        "#Cabello largo | Usa lentes | Usa sombrero | Es mujer | Tiene bigote | Tiene ojos claros\n",
        "x = np.array([\n",
        "     [0,1,0,0,0,0], #Antonio: No tiene cabello largo, usa lentes, no usa sombrero, no es mujer, no tiene bigote, no tiene ojos claros\n",
        "     [1,1,1,1,0,0], #Elly: Tiene cabello largo, usa lentes, usa sombrero, es mujer, no tiene bigote, no tiene ojos claros\n",
        "     [0,0,1,1,0,1], #Patricia: ...\n",
        "     [1,1,0,1,0,0], #Maria: ...\n",
        "     [0,0,1,1,0,0], #Juana: ...\n",
        "     [1,0,0,0,1,1], #José: ...\n",
        "     [0,1,1,0,0,1]  #Luis: ...\n",
        "    ], dtype=np.int16)\n"
      ],
      "execution_count": null,
      "outputs": []
    },
    {
      "cell_type": "markdown",
      "metadata": {
        "id": "68-5r4BZ4Lzm"
      },
      "source": [
        "Lo siguiente será crear las preguntas adecuadas para saber quien es la persona que queremos hallar:"
      ]
    },
    {
      "cell_type": "code",
      "metadata": {
        "id": "GIgXJT7z4Lzm",
        "outputId": "61789b6f-d8a0-4be8-fa89-3985d4f2eb66"
      },
      "source": [
        "#Adivina quien es un array de True: Todos son sospechosos\n",
        "adivinaquien = [True]*len(y)\n",
        "print(adivinaquien)"
      ],
      "execution_count": null,
      "outputs": [
        {
          "name": "stdout",
          "output_type": "stream",
          "text": [
            "[True, True, True, True, True, True, True]\n"
          ]
        }
      ]
    },
    {
      "cell_type": "markdown",
      "metadata": {
        "id": "xr38BfjV4Lzp"
      },
      "source": [
        "Para cada pregunta, vamos a ver quienes son los sospechosos que quedan:"
      ]
    },
    {
      "cell_type": "code",
      "metadata": {
        "id": "gRB9woUq4Lzq",
        "outputId": "48e12c22-d864-4193-cae9-230590a2dd56"
      },
      "source": [
        "print(\"Sospechosos que quedan:\")\n",
        "for contador in range(len(adivinaquien)):\n",
        "    if(adivinaquien[contador] == True):\n",
        "        print(y[contador])"
      ],
      "execution_count": null,
      "outputs": [
        {
          "name": "stdout",
          "output_type": "stream",
          "text": [
            "Sospechosos que quedan:\n",
            "Antonio\n",
            "Elly\n",
            "Patricia\n",
            "María\n",
            "Juana\n",
            "José\n",
            "Luis\n"
          ]
        }
      ]
    },
    {
      "cell_type": "code",
      "metadata": {
        "id": "PB3uLKtw4Lzr",
        "outputId": "40020e8e-0648-4e60-f433-4343d5bd94d8"
      },
      "source": [
        "tieneCabelloLargo = 1 #Tiene cabello largo?\n",
        "\n",
        "#Primera pregunta: Tiene el cabello largo? solamente marca con \"True\" los que tengan cabello largo.\n",
        "pregunta1 = np.where(x[:,0] == tieneCabelloLargo, True, False)\n",
        "adivinaquien = pregunta1\n",
        "print(adivinaquien)"
      ],
      "execution_count": null,
      "outputs": [
        {
          "name": "stdout",
          "output_type": "stream",
          "text": [
            "[False  True False  True False  True False]\n"
          ]
        }
      ]
    },
    {
      "cell_type": "code",
      "metadata": {
        "id": "9RQBvH-a4Lzr",
        "outputId": "afc91356-0a33-4cec-d3b2-5017b1d96a70"
      },
      "source": [
        "print(\"Sospechosos que quedan:\")\n",
        "for contador in range(len(adivinaquien)):\n",
        "    if(adivinaquien[contador] == True):\n",
        "        print(y[contador])"
      ],
      "execution_count": null,
      "outputs": [
        {
          "name": "stdout",
          "output_type": "stream",
          "text": [
            "Sospechosos que quedan:\n",
            "Elly\n",
            "María\n",
            "José\n"
          ]
        }
      ]
    },
    {
      "cell_type": "code",
      "metadata": {
        "id": "7-cH_2Ud4Lzr",
        "outputId": "32a25995-75e3-4ff6-cd8d-ffb5b4de978e"
      },
      "source": [
        "usaLentes = 1 #Usa lentes?\n",
        "\n",
        "#Segunda pregunta, de los que quedan, quien usa lentes?\n",
        "pregunta2 = np.where(x[:,1] == usaLentes, True, False)\n",
        "\n",
        "#Tenemos que ver que los que usan lentes queden en la lista de sospechosos.\n",
        "for contador in range(len(adivinaquien)):\n",
        "    adivinaquien[contador] = pregunta2[contador] and adivinaquien[contador]\n",
        "print(adivinaquien)"
      ],
      "execution_count": null,
      "outputs": [
        {
          "name": "stdout",
          "output_type": "stream",
          "text": [
            "[False  True False  True False False False]\n"
          ]
        }
      ]
    },
    {
      "cell_type": "code",
      "metadata": {
        "id": "BBkaz9A-4Lzs",
        "outputId": "163ec84d-9373-49d8-91e9-0460f2ecab91"
      },
      "source": [
        "print(\"Sospechosos que quedan:\")\n",
        "for contador in range(len(adivinaquien)):\n",
        "    if(adivinaquien[contador] == True):\n",
        "        print(y[contador])"
      ],
      "execution_count": null,
      "outputs": [
        {
          "name": "stdout",
          "output_type": "stream",
          "text": [
            "Sospechosos que quedan:\n",
            "Elly\n",
            "María\n"
          ]
        }
      ]
    },
    {
      "cell_type": "code",
      "metadata": {
        "id": "5h1MA56m4Lzs",
        "outputId": "9239a569-921c-467b-c466-e8bab2db3b56"
      },
      "source": [
        "usaSombrero = 1 #Usa sombrero?\n",
        "\n",
        "#Tercera pregunta, de los que quedan, quien usa sombrero?\n",
        "pregunta3 = np.where(x[:,2] == usaSombrero, True, False)\n",
        "\n",
        "#Tenemos que ver que los que usan sombrero queden en la lista de sospechosos.\n",
        "for contador in range(len(adivinaquien)):\n",
        "    adivinaquien[contador] = pregunta3[contador] and adivinaquien[contador]\n",
        "print(adivinaquien)"
      ],
      "execution_count": null,
      "outputs": [
        {
          "name": "stdout",
          "output_type": "stream",
          "text": [
            "[False  True False False False False False]\n"
          ]
        }
      ]
    },
    {
      "cell_type": "code",
      "metadata": {
        "id": "RO2lKgG44Lzt",
        "outputId": "05384360-978c-40b0-dbba-44fdf2272b31"
      },
      "source": [
        "print(\"Sospechosos que quedan:\")\n",
        "for contador in range(len(adivinaquien)):\n",
        "    if(adivinaquien[contador] == True):\n",
        "        print(y[contador])"
      ],
      "execution_count": null,
      "outputs": [
        {
          "name": "stdout",
          "output_type": "stream",
          "text": [
            "Sospechosos que quedan:\n",
            "Elly\n"
          ]
        }
      ]
    },
    {
      "cell_type": "markdown",
      "metadata": {
        "id": "iPc8_zaD4Lzt"
      },
      "source": [
        "Con ello hemos creado un arbol de decision: Elly es la única que tiene cabello largo, lentes, y sombrero."
      ]
    },
    {
      "cell_type": "code",
      "metadata": {
        "collapsed": true,
        "id": "wCopoZ-J4Lzt"
      },
      "source": [
        ""
      ],
      "execution_count": null,
      "outputs": []
    }
  ]
}